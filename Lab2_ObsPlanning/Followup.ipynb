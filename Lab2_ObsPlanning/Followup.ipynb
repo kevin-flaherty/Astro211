{
 "cells": [
  {
   "cell_type": "markdown",
   "id": "90b8a2f8-8640-4251-8e8b-9a4cdf7aa5dd",
   "metadata": {},
   "source": [
    "### Observation Planning\n",
    "\n",
    "It has been a couple of days since you worked on the Observation Planning lab. Complete the review exercise below, and try to do as much as you can *before* reviewing your previous lab."
   ]
  },
  {
   "cell_type": "markdown",
   "id": "d0837ed2-4a69-4e80-92d2-cc223e0f07e1",
   "metadata": {},
   "source": [
    ":::{exercise}\n",
    "\n",
    "On your list of observing targets are objects with Right Acensions of 12h, 5h, and 22h, and Declinations of -63 deg, +2 deg, +72 deg. In what order would you observe these objects? Are all three of the observable from Williamstown? Explain your reasoning.\n",
    "\n",
    ":::"
   ]
  },
  {
   "cell_type": "markdown",
   "id": "84e367df-8569-4e9c-993e-d9a19dfc591a",
   "metadata": {},
   "source": [
    ":::{exercise}\n",
    "\n",
    "The following function calculates the SNR from an input list of magnitudes. Besides the named assumption (that a 6th magnitude object has a SNR of 10), what assumptions are made in making this calculation?\n",
    "\n",
    "```{code-cell} python\n",
    "def calc_snr(mags):\n",
    "    '''Calculate the SNR for a list of magnitudes, assuming that a 6th magnitude object has a SNR of 10.'''\n",
    "    snr = 10*np.sqrt(10**(-(mags-6)/2.5))\n",
    "    return(snr)\n",
    "```\n",
    ":::"
   ]
  },
  {
   "cell_type": "markdown",
   "id": "cd670686-b8f9-4a1c-ae95-d896bd6a3734",
   "metadata": {},
   "source": [
    ":::{exercise}\n",
    "Define the following terms, and for each list a typical 'good' value and a typical 'bad' value:\n",
    "* *airmass*: \n",
    "* *seeing*:\n",
    ":::"
   ]
  },
  {
   "cell_type": "markdown",
   "id": "a3780b4a-fe01-4195-9d96-0c393bde7d2a",
   "metadata": {},
   "source": [
    ":::{exercise}\n",
    "\n",
    "In the space below, describe the results from your *Putting it all together* exercise. In a few sentences, describe the data available, what processing was applied to the data, and the result of your final examination of the data. Note any errors that you ran into, and how you addressed these issues. \n",
    ":::"
   ]
  },
  {
   "cell_type": "code",
   "execution_count": null,
   "id": "51f9eedb-e3d7-41e1-8c7f-bcf1578a0b25",
   "metadata": {},
   "outputs": [],
   "source": []
  }
 ],
 "metadata": {
  "kernelspec": {
   "display_name": "Python 3 (ipykernel)",
   "language": "python",
   "name": "python3"
  },
  "language_info": {
   "codemirror_mode": {
    "name": "ipython",
    "version": 3
   },
   "file_extension": ".py",
   "mimetype": "text/x-python",
   "name": "python",
   "nbconvert_exporter": "python",
   "pygments_lexer": "ipython3",
   "version": "3.9.12"
  }
 },
 "nbformat": 4,
 "nbformat_minor": 5
}
