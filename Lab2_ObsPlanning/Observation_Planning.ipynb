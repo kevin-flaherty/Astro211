{
 "cells": [
  {
   "cell_type": "markdown",
   "metadata": {
    "id": "LpluuXGA7IRi"
   },
   "source": [
    "# Observation Planning\n",
    "---\n",
    "### Names: [Enter your names here]\n",
    "\n",
    "**Before you do anything else, go to File -> Save a Copy in Drive. Make any requested edits to that copy.**\n",
    "\n",
    "**New code/tools**\n",
    "\n",
    "* Define Right Ascension, Declination, altitude, azimuth, hour angle, and local sidereal time. Describe how these values vary between different objects on the night sky, and how they vary with time.\n",
    "* Define SNR, and how it relates to various parameters (in particular exposure time). Be able to use the SNR at a given exposure time of an object with a known brightness to calculate the SNR of a second object of known brightness at a given exposure time, or calculate the exposure time necessary to reach a specified SNR for an object of a known brightness.\n",
    "* Define airmass.\n",
    "* Use Tapir to calculate the airmass as a function of time for a given object.\n",
    "* Use ds9 to examine a fits file, including finding the flux at a particular pixel, adjusting the scale and zoom, looking at the header, and calculating the SNR ratio of a feature in an image.\n",
    "* `np.cos()`\n",
    "* `np.radians()`\n",
    "\n",
    "---\n",
    "\n",
    "Any night at an observatory involves planning ahead of time. Some of this planning goes into the original request for observing time (e.g., which objects to look at, what kind of exposure times are needed, what instrument configuration to use) while some happens closer to the actual night of observing (e.g., planning the order in which to observe different objects, adjusting to the weather conditions).\n",
    "\n",
    "In preparing for an observing run, you need:\n",
    "- A list of scientifically interesting objects to look at.\n",
    "- An estimate of how long it takes to observe each object. This will include the exposure time for the particular instrument, as well as an estimate of 'overhead' associated with e.g., movng the telescope to the target, reading out the CCD, changing from one instrument to the next.\n",
    "- A list of calibration targets, if needed.\n",
    "- A schedule for when to observe the objects. This can include the time of year, as well as a list for a given night (start with the objects that rise first, and then move to the objects that rise later), and how to balance science targets vs. calibration targets, and how to fit this all into the time allowed.\n",
    "- A way to examine the data after it has been taken. When at a telescope you may need to adjust exposure times based on the conditions, and examining the data after it is taken will be crucial for this.\n",
    "\n",
    "\n",
    "This lab is designed to walk you through some of the common tasks in designing a set of observations, including estimating exposure times, determining when an object is visible in the night sky, and examining the data. There are many ways to accomplish these tasks, and here we introduce some tools that may be helpful.\n",
    "\n"
   ]
  },
  {
   "cell_type": "markdown",
   "metadata": {
    "id": "RvD5Z_Co8oQT"
   },
   "source": [
    "### Sky Coordinates\n",
    "\n",
    "When picking out objects, we need to know where they are on the sky. This includes:    \n",
    "\n",
    "\n",
    "*   Right Ascension ($\\alpha$), Declination ($\\delta$): Analagous to longitude and latitude. Declination is measured in degrees (-90$^{\\circ}$ to 90$^{\\circ}$) while right ascension is measured in units of time (from 0 to 24 hours).\n",
    "*   Altitude ($Alt$), Azimuth ($Az$): Defined relative to the observer. *Altitude* measures the angle from the horizon (90$^{\\circ}$ corresponds to directly overhead). *Azimuth* measures the angle along the horizon. True north corresponds to an azimuth of 0$^{\\circ}$, which azimuth increasing to the east.\n",
    "\n",
    "Related quantities include:    \n",
    "*   Local Sidereal Time (LST): An object with a Right ascension equal to the local sidereal time will fall on the meridian. An object will reach its highest point when its Right Ascension is equal to the LST.\n",
    "*   Hour angle: LST - $\\alpha$. A measure of the distance from the meridian. Negative hour angles correspond to objects that are still rising, while positive hour angles correspond to objects that are setting. (Circumpolar objects cross the meridian twice, and HA=0 corresponds to when they are highest in the sky).\n",
    "\n",
    "\n",
    "> **Q:** A strong wind is coming out of the west. You can continue observing in these conditions, if you look at objects in the east. What azimuth should you focus on? Should you pick objects with a positive or negative hour angle?\n",
    "\n",
    "**[insert your answer here]**\n",
    "\n",
    "> **Q:** Suppose the local sidereal time at midnight is 08h30m. Of the objects listed below, which is likely to be highest in the sky? Which will be highest near sunrise six hours later?\n",
    "\n",
    "| Object | $\\alpha$ | $\\delta$ |\n",
    "|--------|----------|----------|\n",
    "| M31    |00h43m46s |+41d22m37s|\n",
    "| M42    |05h36m17s |-05d22m25s|\n",
    "| M48    |08h14m41s |-05d48m45s|\n",
    "| M64    |12h57m41s |+21d34m25s|\n",
    "| M101   |14h03m54s |+54d15m01s|\n",
    "\n",
    "**[insert your answer here]**\n",
    "\n",
    "> **Q:** In what order should the above list of objects be observed if you want to catch them at their highest?\n",
    "\n",
    "**[insert your answer here]**\n",
    "\n"
   ]
  },
  {
   "cell_type": "markdown",
   "metadata": {
    "id": "W9IjKPgCYwzO"
   },
   "source": [
    "### Estimating Exposure Times\n",
    "\n",
    "Let us assume you have a list of scientifically interesting targets, and you are now interested in estimating how long to look at each object. The metric that we often use to estimate the exposure time is the Signal-to-Noise ratio (SNR), which is proportional to the exposure time ($t$):    \n",
    "\n",
    "$SNR = \\frac{N_{star}t}{\\sqrt{N_{star}t+n_{pix}(N_{sky}t+N_{dark}t+N_{read}^2})}$\n",
    "\n",
    "The $N_{star}$ term refers to the rate at which electrons are created by the object of interest and is directly proportional to the flux of the object. $N_{sky}$ is the rate at which electrons are created by sky photons, $N_{dark}$ is the rate at which electrons are created by the dark current, $N_{read}$ is the read noise, and $n_{pix}$ is the number of pixels used to sum up the total flux from the object of interest.\n",
    "\n",
    "You will learn much more about this in the CCD Equation lecture, but here we will use a simplified version. For an object that is much brighter than the background, the $N_{star}$ term will dominate, resulting in $SNR\\propto\\sqrt{N_{star}t}$. If $N_{star}$ is constant then the SNR scales with the square root of the observing time. If the observing time is constant then the SNR scales with the square root of the flux, which is proportional to the flux of the object.\n",
    "\n",
    "> **Q:** An image in our CCD archive of a particular object reaches SNR=7 in a 30 second exposure. How long of an exposure is needed to reach SNR=10 for that same object?\n",
    "\n",
    "**[insert answer here]**\n",
    "\n",
    "Some obsevatories offer exposure time calculators that allow you to enter a flux and an instrument configuration, and they will estimate the required exposure time (or conversely, for a given exposure time, instrument configuration and target flux they will calculate the resulting SNR). When this isn't available you will often see statements to the effect of 'Our instrument can reach SNR=5 on a Nth magnitude object in an hour.' This information can then be used to scale to your particular objects.\n",
    "\n",
    "> **Q:** Triplespec, a Near-Infrared spectrograph on the Apache Point Observatory 3.5m, can reach SNR=5 in an hour for an object with a magnitude of 14 in the K band (the K band is in the infrared, and is centered at ~2.2$\\mu$m). The code in the next block uses this information to calculate the SNR ratio for a set of input objects. But the code block is missing some pieces of code. Fill in the code block so that it calculates the SNR of the objects in the table below after an hour.\n",
    "\n",
    "| Star | K mag |\n",
    "|:----:|:-----:|\n",
    "| A    | 8.5   |\n",
    "| B    | 12.0  |\n",
    "| C    | 16.0  |\n",
    "| D    | 5.0   |\n"
   ]
  },
  {
   "cell_type": "code",
   "execution_count": null,
   "metadata": {
    "id": "A57AGHKl8nd8"
   },
   "outputs": [],
   "source": [
    "# Calculate SNR after an hour\n",
    "import numpy as np\n",
    "kmag = #Create a numpy array containing the K band magnitudes from the table\n",
    "snr = 5*np.sqrt() #<-- Fill the parenthesese with the equation for the flux ratio between a K=14 star and the stars of interest.\n",
    "for s in snr:\n",
    "  print() #<-- Print the SNR for each star, use text with the format \"SNR: X\" where X is the SNR for a star"
   ]
  },
  {
   "cell_type": "markdown",
   "metadata": {
    "id": "Yzwhy2c1eriO"
   },
   "source": [
    "> **Q:** The code block below calculates the exposure times needed to reach SNR=10 for each of the objects listed above, but it contains some errors. Be careful; some of these errors will cause the code to break, while other errors will still allow the code to execute, but it will produce the wrong answer. Double check that the answers make sense before moving on!"
   ]
  },
  {
   "cell_type": "code",
   "execution_count": null,
   "metadata": {
    "id": "MeiPqUCBeq5O"
   },
   "outputs": [],
   "source": [
    "#Calculate the exposure times needed to reach SNR=10\n",
    "time = 60.*(10./5)**2.*10*(-(kmag-14)/2.5\n",
    "for t in time\n",
    "  print('Exposure Time: {:0.3f} minutes.format(x))"
   ]
  },
  {
   "cell_type": "markdown",
   "metadata": {
    "id": "Z6zBTBEWvMR0"
   },
   "source": [
    "> Copy the code block from above into the section below, and turn it into a function. Your function should take a numpy array of K band magnitudes as an input, and have the desired SNR for all of the targets as an optional input (the default SNR should be 10). The function then prints out the exposure time, in minutes, needed to reach that SNR. Make sure to include appropriate documentation."
   ]
  },
  {
   "cell_type": "code",
   "execution_count": null,
   "metadata": {
    "id": "GPw9EJe0wSuq"
   },
   "outputs": [],
   "source": [
    "# Put your function here"
   ]
  },
  {
   "cell_type": "markdown",
   "metadata": {
    "id": "06VWE8Sggmjp"
   },
   "source": [
    "### Examining Data\n",
    "\n",
    "As you saw, you can determine the time needed to reach a certain SNR if you are given the flux and SNR of a previous observation. This can be done numerically as above, or by examining images directly, as will be shown below. Calculating the SNR from an image is also useful while at the observatory; if external factors (e.g. clouds) change the relationship between exposure time and SNR, you need to be able to adjust your observing plan so as to reach the SNR needed to accomplish your science goal.\n",
    "\n",
    "\n",
    "One useful program for examining images is ds9 (named after the Star Trek show). ds9 is a stand-alone application ([http://ds9.si.edu/site/Home.html](http://ds9.si.edu/site/Home.html)), that can be accessed from the applications folder on this machine.\n",
    "\n",
    "> Under the Applications folder, open SAOImageds9.\n",
    "\n",
    "The standard ds9 window will have a larger frame for displaying the image (empty for now). Directly above this are two rows of buttons that give access to various tasks (mirroring tasks available in the drop-down menus). The top panel shows information about the object including the filename, the object type/name (taken from the header of the fits file) and pixel value and position of your cursor. In the upper right is a zoomed-in image of the current location of the cursor. Both of these are empty because we haven't loaded an image.\n",
    "\n",
    "As an example image, we can use an image from our CCD archives. We save every image taken at our observatory, and they are stored on a server that is remotely accessible. If you are in TPL 301, the remote drive will already be mounted on the computer you are working on (look for the Shared drive on the desktop). Within the Shared drive, there is a CCD_Data directory that contains our CCD archive, organized by date of observations.\n",
    "\n",
    "> Select File -> Open. Navigate to Shared -> CCD_Data -> 2019 -> 11_12_19 and open the image `NGC6946_JRhode_60-0001proc.fit`.\n",
    "\n",
    "When you first load this image you probably won't see much of anything. This is because the color scale, which maps the pixel values (between 0 and ~65000) to greyscale values (between 0 and 256), is based on the max and min brightness of the image. If the maximum brightness is much, much brighter than the typical brightness, then most of the pixels will be mapped to colors that are close to black.\n",
    "\n",
    "> Click the `scale` button. The bottom row of buttons will be updated. Click the `zscale` button. This should make the galaxy visible.\n",
    "\n",
    "> Click the `zoom` button. Click the `zoom fit` button. This will fit the entire image in the bottom panel.\n",
    "\n",
    "As you move the cursor around the image, the top panel will be updated with the current X and Y position of your cursor, as well as the right ascension and declination, and the brightness at the location of your cursor.\n",
    "\n",
    "> **Q:** What is the brightness at the center of the galaxy?\n",
    "\n",
    "**[insert answer here]**\n",
    "\n",
    "> **Q:** Move your cursor around some background pixels (i.e., that don't have any emission from the galaxy or stars). What is the average background level, and what is the variation in the background level? (Rough estimates are okay here)\n",
    "\n",
    "\n",
    "**[insert answer here]**\n",
    "\n",
    "> **Q:** The SNR of the center of the galaxy can be roughly estimated by the difference between the signal in the center of the galaxy and that of the background, divided by the variation in the background (e.g., SNR = (galaxy_flux - background_flux)/background_variation). What is the SNR of the center of the galaxy?\n",
    "\n",
    "**[insert answer here]**\n",
    "\n",
    "Each fits file includes both the image, and a header which contains information about the image, like the observatory where the image was taken, the configuration of the instrument, and any details of post-processing. You can view the header using ds9.\n",
    "\n",
    "> Go to File -> Header. This will open a new window with the header information.\n",
    "> **Q:** What was the exposure time?\n",
    "\n",
    "**[insert answer here]**\n",
    "\n",
    "\n",
    "> **Q:** What exposure time would be needed to double the SNR of the center of the galaxy?\n",
    "\n",
    "**[insert answer here]**\n",
    "\n",
    "Another useful characteristic of an image is the *seeing* which is the width of an unresolved emission feature (e.g., a bright star) within the image. While the spatial resolution limit of the telescope is set by the diameter of the mirror, turbulence within the atmosphere sets a more practical limit, with more turbulence producing larger seeing and hence a blurrier image. At our observatory, seeing can range from 3 arc-seconds to >10 arc-seconds, while at the best observatories in the world it can reach 0.5 arc-seconds.\n",
    "\n",
    "To estimate the seeing, go to *Edit -> Region*. This will change your cursor so that you can define a *Region* on the image. Then go to *Region -> Shape -> Projection*. Now, when you use the cursor to draw a line across the image, a new plot will be displayed showing the brightness profile across this line.\n",
    "\n",
    "> **Q:** Find a star that is not saturated (our detector saturates at a count of 65000 ADU) and measure the profile by drawing a line horizontally across the star. Use the profile to measure the full-width at half-maximum height (FWHM), which is the seeing of this image. Multiply this number by 1.24 to convert the seeing from number of pixels to arc-seconds. What is the seeing in this image?\n",
    "\n",
    "**[insert answer here]**\n",
    "\n"
   ]
  },
  {
   "cell_type": "markdown",
   "metadata": {
    "id": "aMufUfbGodWr"
   },
   "source": [
    "### Determining when an object is visible (TAPIR)\n",
    "\n",
    "There are multiple ways in which to determine when an object is visible over the course of a year and over the course of a night. If your goal is a quick observation for e.g. public outreach, then planatarium software is the best optio ([stellarium](https://stellarium.org) is a free software package, with a [web-based version](https://stellarium-web.org) as well. [Cartes du Ciel](https://www.ap-i.net/skychart/en/start) is another free option.).\n",
    "\n",
    "For an observing run you might need more information. This section describes how to use `TAPIR` [https://astro.swarthmore.edu/~jensen/tapir.html](https://astro.swarthmore.edu/~jensen/tapir.html), an online utility built by Prof. Eric Jensen at Swarthmore College to estimate the airmass and download finding charts for an object of interest."
   ]
  },
  {
   "cell_type": "markdown",
   "metadata": {
    "id": "UTm1qAYgozGB"
   },
   "source": [
    "One measure of the visibility of an object is its airmass. The **airmass** is a measure of how much atmosphere we have to look through in order to see an object. which is related to how high the object is in the sky (its **altitude**).\n",
    "\n",
    "$airmass = \\sec z = \\frac{1}{\\cos z}$\n",
    "\n",
    "where $z$ is the zenith angle (the angular distance from the zenith = 90$^{\\circ}$-$altitude$). An object directly overhead has an airmass of 1, with airmass values increasing toward the horizon. In general, you want to minimize the airmass.\n",
    "\n",
    "> **Q:** At our rooftop observatory we cannot observe object below an altitude of 20$^{\\circ}$. What is the maximum airmass of an observable object at our rooftop observatory? (Note: Trigonometric functions, like cosine, are accessible in numpy via `np.cos(angle)` where angle is the `angle` in radians. You can convert from degrees to radians using the `np.radians` function. There is no secant function within numpy.)"
   ]
  },
  {
   "cell_type": "code",
   "execution_count": null,
   "metadata": {
    "id": "VUSdosK-qUzw"
   },
   "outputs": [],
   "source": [
    "#Calculate airmass here\n",
    "   #Print out the airmass in the format \"Maximum airmass: X\" where X is the maximum airmass to two decimal places"
   ]
  },
  {
   "cell_type": "markdown",
   "metadata": {
    "id": "qktT0hyxqkPd"
   },
   "source": [
    "The airmass depends on the location of the object, the location of the observatory, and the time at which it is observed.\n",
    "\n",
    "To use TAPIR to look at the airmass of an object, go to the airmass plotting page\n",
    "[https://astro.swarthmore.edu/airmass.cgi](https://astro.swarthmore.edu/airmass.cgi)\n",
    "\n",
    "From the drop-down menu, select Williams College Observatory. You can adjust the time zone, as well as the date, but for now leave it as the observatory's local time and today.\n",
    "\n",
    "Enter *Betelgeuse* under the Target name and click submit. You will then see a plot showing the airmass/elevation as a function of time. Move the cursor around the plot to see the exact values along the airmass curve.\n",
    "\n",
    "> **Q:** What is the minimum airmass for Betelgeuse tonight? When does it reach its highest point?\n",
    "\n",
    "**[insert your answer here]**\n",
    "\n",
    "> **Q:** Dr. Amy Steele '08 is looking for comets around the white dwarf WD1145+017. This object has a position of RA=11h48m33.6s, Dec=+01d28m29s. Is it observable from our rooftop observatory tonight? If so, how long is it observable? (Note: You may need to increase the maximum airmass plotted. Also, the vertical red lines on the airmass plot mark sunrise and sunset. Make sure that you don't include time spent observing while the Sun is up!)\n",
    "\n",
    "**[insert your answer here]**\n"
   ]
  },
  {
   "cell_type": "markdown",
   "metadata": {},
   "source": [
    "## Putting it all together"
   ]
  },
  {
   "cell_type": "markdown",
   "metadata": {},
   "source": [
    "We have many of the pieces needed to plan an observing run. Now let's put them together...\n",
    "\n",
    "A supernovae was discovered in the galaxy M101 in the spring of 2023, and we were able to collect some images of the galaxy and its new supernovae soon after it was discovered. Suppose that for your second observing project you wanted to follow up these observations to see how much the supernova has faded over the past year.\n",
    "\n",
    "M101_052223.fit is an image right after the supernovae exploded and the supernovae is located at position RA = 14h03m39s, Dec = +54d18m42s. After a year a typical supernova drops in flux by a factor of ~500. \n",
    "\n",
    "> **Q:** What exposure time would be needed to detect the supernova with SNR=10 assuming a typical drop in flux? If you wanted to look at this object in April, when would you want to schedule your observations? \n",
    "\n",
    "**[insert answer here]**\n",
    "\n",
    "In your answer you want enough detail so that someone could execute this observing program even if they weren't involved in the planning. For example, saying \"We would look at M101 early in the night.\" is not specific enough because \"early\" might mean before 8pm, before 10pm, before 2am, etc. An appropriately specific answer would be \"M101 has an altitude above 20 degrees from 4pm to 10pm in April, with sunset happening at ~6:30pm, which means that the image can be taken anytime after 6:30pm, but long enough before 10pm that the exposure can finish before 10pm.\""
   ]
  },
  {
   "cell_type": "code",
   "execution_count": null,
   "metadata": {},
   "outputs": [],
   "source": []
  },
  {
   "cell_type": "markdown",
   "metadata": {
    "id": "N4WvyRynmjWM"
   },
   "source": [
    "### To turn in this lab, share the lab with me using the *Share* button in the upper right."
   ]
  }
 ],
 "metadata": {
  "colab": {
   "provenance": []
  },
  "kernelspec": {
   "display_name": "Python 3 (ipykernel)",
   "language": "python",
   "name": "python3"
  },
  "language_info": {
   "codemirror_mode": {
    "name": "ipython",
    "version": 3
   },
   "file_extension": ".py",
   "mimetype": "text/x-python",
   "name": "python",
   "nbconvert_exporter": "python",
   "pygments_lexer": "ipython3",
   "version": "3.9.12"
  }
 },
 "nbformat": 4,
 "nbformat_minor": 1
}
