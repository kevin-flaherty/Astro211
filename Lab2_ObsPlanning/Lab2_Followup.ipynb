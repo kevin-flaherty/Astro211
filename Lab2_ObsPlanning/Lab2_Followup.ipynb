{
 "cells": [
  {
   "cell_type": "markdown",
   "id": "90b8a2f8-8640-4251-8e8b-9a4cdf7aa5dd",
   "metadata": {},
   "source": [
    "## Observation Planning - Follow Up\n",
    "\n",
    "**Before you do anything else, make a duplicate copy of this notebook, and update the name to include your name or initials. Make any requested edits to that copy.**\n",
    "\n",
    "### Names: [Insert your names here]\n",
    "\n",
    "Complete the activities below before the start of lab. Feel free to refer back to your python notebook from last week. "
   ]
  },
  {
   "cell_type": "markdown",
   "id": "d0837ed2-4a69-4e80-92d2-cc223e0f07e1",
   "metadata": {},
   "source": [
    "\n",
    "## 1\n",
    "\n",
    "On your list of observing targets are objects with Right Acensions of 12h, 5h, and 22h, and Declinations of -63 deg, +2 deg, +72 deg. In what order would you observe these objects? Are all three of the observable from Williamstown? Explain your reasoning.\n",
    "\n"
   ]
  },
  {
   "cell_type": "markdown",
   "id": "3a188877",
   "metadata": {},
   "source": [
    "**Answer:**"
   ]
  },
  {
   "cell_type": "markdown",
   "id": "84e367df-8569-4e9c-993e-d9a19dfc591a",
   "metadata": {},
   "source": [
    "## 2\n",
    "\n",
    "The following function calculates the SNR from an input list of magnitudes. Besides the named assumption (that a 6th magnitude object has a SNR of 10), what assumptions are made in making this calculation?\n",
    "\n",
    "```python\n",
    "def calc_snr(mags):\n",
    "    '''Calculate the SNR for a list of magnitudes, assuming that a 6th magnitude object has a SNR of 10.'''\n",
    "    snr = 10*np.sqrt(10**(-(mags-6)/2.5))\n",
    "    return(snr)\n",
    "```\n"
   ]
  },
  {
   "cell_type": "markdown",
   "id": "347c82b5",
   "metadata": {},
   "source": [
    "**Answer:**"
   ]
  },
  {
   "cell_type": "markdown",
   "id": "cd670686-b8f9-4a1c-ae95-d896bd6a3734",
   "metadata": {},
   "source": [
    "\n",
    "## 3\n",
    "\n",
    "Define the following terms, and for each list a typical 'good' value and a typical 'bad' value:\n",
    "* *airmass*: \n",
    "* *seeing*:\n"
   ]
  },
  {
   "cell_type": "markdown",
   "id": "2de16f48",
   "metadata": {},
   "source": [
    "**Answer:**"
   ]
  },
  {
   "cell_type": "markdown",
   "id": "a3780b4a-fe01-4195-9d96-0c393bde7d2a",
   "metadata": {},
   "source": [
    "## 4\n",
    "\n",
    "At the end of the previous lab you calculated the exposure time needed to detect the supernova in M101 at a SNR=10 one year after it was originally detected.\n",
    "\n",
    "\n",
    "Describe one way that you could check that you answer is 'correct', beyond looking at the solutions, or going back in time and taking an image to confirm your estimate. \n",
    "\n",
    "**Answer:**\n",
    "\n",
    "In that exercise you assumed that the flux dropped by a factor of 500 in one year. Suppose you were provided a more general relationship between time and the drop in flux (e.g., the drop in flux is given by F$_{drop}=500(t\\1 year)^{2.3}$ ). Among the programming elements that you have seen (e.g., lists, for loops, if statements, functions), what would you use and how would you use them to generalize your calculation? \n",
    "\n",
    "**Answer:**\n",
    "\n"
   ]
  },
  {
   "cell_type": "code",
   "execution_count": null,
   "id": "51f9eedb-e3d7-41e1-8c7f-bcf1578a0b25",
   "metadata": {},
   "outputs": [],
   "source": []
  }
 ],
 "metadata": {
  "kernelspec": {
   "display_name": "Python 3 (ipykernel)",
   "language": "python",
   "name": "python3"
  },
  "language_info": {
   "codemirror_mode": {
    "name": "ipython",
    "version": 3
   },
   "file_extension": ".py",
   "mimetype": "text/x-python",
   "name": "python",
   "nbconvert_exporter": "python",
   "pygments_lexer": "ipython3",
   "version": "3.9.12"
  }
 },
 "nbformat": 4,
 "nbformat_minor": 5
}
