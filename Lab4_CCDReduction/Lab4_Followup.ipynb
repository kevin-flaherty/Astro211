{
 "cells": [
  {
   "cell_type": "markdown",
   "id": "447305f5-45e5-4c63-a92f-ecdba1295089",
   "metadata": {},
   "source": [
    "## CCD Data Reduction - Follow Up\n",
    "\n",
    "**Before you do anything else, make a duplicate copy of this notebook, and update the name to include your name or initials. Make any requested edits to that copy.**\n",
    "\n",
    "### Names: [Insert your names here]\n",
    "\n",
    "Complete the activities below before the start of lab. Feel free to refer back to your python notebook from last week. "
   ]
  },
  {
   "cell_type": "markdown",
   "id": "fd13c7aa",
   "metadata": {},
   "source": [
    "---\n",
    "#### *You are allowed to use AI on any portion of this notebook.*\n",
    "\n",
    "---"
   ]
  },
  {
   "cell_type": "markdown",
   "id": "2c032028-d6d4-44da-a3f4-1679ed08fe88",
   "metadata": {},
   "source": [
    "## 1\n",
    "\n",
    "Suppose you have an image that is 1024 by 1024 pixels. Which of the following selects out the flux at pixel position x=24, y=52? Place a + between the corresponding brackets. \n",
    "- [ ] `data[24,52]`\n",
    "- [ ] `data[52,24]`\n",
    "- [ ] `data[1000,972]`\n",
    "- [ ] `data[972,1000]`\n"
   ]
  },
  {
   "cell_type": "markdown",
   "id": "2c07b284-bf6f-4e76-8b72-5ede27bac18c",
   "metadata": {},
   "source": [
    "## 2\n",
    "\n",
    "The following block of code reads in a fits file and prints off the exposure time used for the image. *But it contains errors.* Fix the errors in the following block of code.\n",
    "\n",
    "```python\n",
    "from astropy.io import fits\n",
    "image = fits.open(myimage.fits)\n",
    "hdr = image.header\n",
    "print(hdr['date-obs'])\n",
    "```\n"
   ]
  },
  {
   "cell_type": "markdown",
   "id": "038ff16e",
   "metadata": {},
   "source": [
    "**Answer:**"
   ]
  },
  {
   "cell_type": "markdown",
   "id": "670ff9ca-48b7-479f-a018-b0d5c5a64120",
   "metadata": {},
   "source": [
    "## 3\n",
    "\n",
    "The following block of code reads in a fits image, and does something to the data. Describe, in words, how the following code changes the data.\n",
    "\n",
    "```python\n",
    "image = fits.open('myimage.fits')\n",
    "data = image[0].data\n",
    "\n",
    "data_median = np.median(data)\n",
    "data[0:10,:] = data_median\n",
    "data[:,0:10] = data_median\n",
    "data[1014:1024,:] = data_median\n",
    "data[:,1014:1024] = data_median\n",
    "```\n"
   ]
  },
  {
   "cell_type": "markdown",
   "id": "9fb33fd5",
   "metadata": {},
   "source": [
    "**Answer:**"
   ]
  },
  {
   "cell_type": "markdown",
   "id": "f245f1a1-70d8-4469-b659-1b50192127c9",
   "metadata": {},
   "source": [
    "## 4\n",
    "\n",
    "At the end of the previous lab you calculated the light curve of a supernovae in M101 based on a series of images. In creating this light curve you followed a simple procedure for measuring the *photometry*, but there are more sophisticated tools for doing this. \n",
    "\n",
    "Look up information on *Aperture Photometry* within the `astropy` package. **Skim** the description of how to use `astropy` the perform aperture photometry, and in the space below list the functions you would use and a one sentence description of what each does, any information that you would need in order to use this capability (i.e., what are the inputs for the functions you would use?), and the approximate order you need to work through the functions and/or collect/calculate inputs. \n",
    "\n",
    "Note: It is okay to list an input even if you don't fully understand what that input is. If the documentation lists another function to generate that input, you should include that, but otherwise list the input and note that the documentation doesn't tell you how to create that input (the relevant documentation might be on another page) e.g. \"Function `psf_fitting` requires something called a 'kernel' as one of the inputs, which is created by the `kernal1d_Gaussian` function.\" or \"The `fit_morphology` function requires a `source_catalog` object as an input, but the documentation doesn't specify how to create this type of object.\"\n",
    "\n",
    "**Answer:**\n",
    "\n"
   ]
  },
  {
   "cell_type": "code",
   "execution_count": null,
   "id": "79ed19ff-3bc2-4291-bf07-bd13d346c76e",
   "metadata": {},
   "outputs": [],
   "source": []
  },
  {
   "cell_type": "markdown",
   "id": "462afac3",
   "metadata": {},
   "source": [
    "#### To turn in this lab, either email me (kmf4) a copy of this notebook, or place your copy in the Shared/Astro211_F25/Lab1 folder in the Astro server."
   ]
  },
  {
   "cell_type": "markdown",
   "id": "df6317a0",
   "metadata": {},
   "source": []
  }
 ],
 "metadata": {
  "kernelspec": {
   "display_name": "Python 3 (ipykernel)",
   "language": "python",
   "name": "python3"
  },
  "language_info": {
   "codemirror_mode": {
    "name": "ipython",
    "version": 3
   },
   "file_extension": ".py",
   "mimetype": "text/x-python",
   "name": "python",
   "nbconvert_exporter": "python",
   "pygments_lexer": "ipython3",
   "version": "3.9.12"
  }
 },
 "nbformat": 4,
 "nbformat_minor": 5
}
