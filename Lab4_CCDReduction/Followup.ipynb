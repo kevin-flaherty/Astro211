{
 "cells": [
  {
   "cell_type": "markdown",
   "id": "447305f5-45e5-4c63-a92f-ecdba1295089",
   "metadata": {},
   "source": [
    "### CCD Data Reduction Follow-up\n",
    "\n",
    "\n",
    "It has been a couple of days since you worked on the CCD Data Reduction lab. Complete the review exercise below, and try to do as much as you can *before* reviewing your previous lab."
   ]
  },
  {
   "cell_type": "markdown",
   "id": "2c032028-d6d4-44da-a3f4-1679ed08fe88",
   "metadata": {},
   "source": [
    ":::{exercise}\n",
    "\n",
    "Suppose you have an image that is 1024 by 1024 pixels. Which of the following selects out the flux at pixel position x=24, y=52?\n",
    "- [ ] `data[24,52]`\n",
    "- [ ] `data[52,24]`\n",
    "- [ ] `data[1000,972]`\n",
    "- [ ] `data[972,1000]`\n",
    ":::"
   ]
  },
  {
   "cell_type": "markdown",
   "id": "2c07b284-bf6f-4e76-8b72-5ede27bac18c",
   "metadata": {},
   "source": [
    ":::{exercise}\n",
    "The following block of code reads in a fits file and prints off the exposure time used for the image. *But it contains errors.* Fix the errors in the following block of code.\n",
    "\n",
    "```{code-cell} python\n",
    "from astropy.io import fits\n",
    "image = fits.open('myimage.fits')\n",
    "hdr = image[0].header\n",
    "print(hdr['exptime'])\n",
    "```\n",
    "\n",
    ":::"
   ]
  },
  {
   "cell_type": "markdown",
   "id": "670ff9ca-48b7-479f-a018-b0d5c5a64120",
   "metadata": {},
   "source": [
    ":::{exercise}\n",
    "\n",
    "The following block of code reads in a fits image, and does something to the data. Describe, in words, how the following code changes the data.\n",
    "\n",
    "```{code-cell} python\n",
    "image = fits.open('myimage.fits')\n",
    "data = image[0].data\n",
    "\n",
    "data_mean = np.mean(data)\n",
    "data[0:10,:] = data_median\n",
    "data[:,0:10] = data_median\n",
    "data[1014:1024,:] = data_median\n",
    "data[:,1014:1024] = data_median\n",
    "```\n",
    ":::"
   ]
  },
  {
   "cell_type": "markdown",
   "id": "f245f1a1-70d8-4469-b659-1b50192127c9",
   "metadata": {},
   "source": [
    ":::{exercise}\n",
    "\n",
    "In the space below, describe the results from your *Putting it all together* exercise. In a few sentences, describe the data available, what processing was applied to the data, and the result of your final examination of the data. Note any errors that you ran into, and how you addressed these issues. \n",
    ":::"
   ]
  },
  {
   "cell_type": "code",
   "execution_count": null,
   "id": "79ed19ff-3bc2-4291-bf07-bd13d346c76e",
   "metadata": {},
   "outputs": [],
   "source": []
  }
 ],
 "metadata": {
  "kernelspec": {
   "display_name": "Python 3 (ipykernel)",
   "language": "python",
   "name": "python3"
  },
  "language_info": {
   "codemirror_mode": {
    "name": "ipython",
    "version": 3
   },
   "file_extension": ".py",
   "mimetype": "text/x-python",
   "name": "python",
   "nbconvert_exporter": "python",
   "pygments_lexer": "ipython3",
   "version": "3.9.12"
  }
 },
 "nbformat": 4,
 "nbformat_minor": 5
}
