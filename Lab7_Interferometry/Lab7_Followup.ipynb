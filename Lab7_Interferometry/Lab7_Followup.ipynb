{
 "cells": [
  {
   "cell_type": "markdown",
   "id": "bf078d1a",
   "metadata": {},
   "source": [
    "## Interferometry - Follow Up\n",
    "\n",
    "**Before you do anything else, make a duplicate copy of this notebook, and update the name to include your name or initials. Make any requested edits to that copy.**\n",
    "\n",
    "### Names: [Insert your names here]\n",
    "\n",
    "Complete the activities below before the start of lab. Feel free to refer back to your python notebook from last week. "
   ]
  },
  {
   "cell_type": "markdown",
   "id": "260b739e",
   "metadata": {},
   "source": [
    "---\n",
    "#### *You are allowed to use AI on any portion of this notebook.*\n",
    "\n",
    "---"
   ]
  },
  {
   "cell_type": "markdown",
   "id": "e1763bee",
   "metadata": {},
   "source": [
    "## 1\n",
    "\n",
    "The NIRISS camera on JWST allows for a unique type of interfermometry known as *aperture masking interferometry* ([Click here for more information](https://jwst-docs.stsci.edu/jwst-near-infrared-imager-and-slitless-spectrograph/niriss-observing-modes/niriss-aperture-masking-interferometry#gsc.tab=0)). Light heading to this camera passes through 7 holes in an otherwise opaque mask, and, similar to an array of radio antennas, the interference of light from holes with different baselines (i.e., the vector linking the centers of 2 holes) contains information at different spatial frequencies. This method allows a user to resolve closely spaced objects (as close as 0.5 $\\lambda$/D) at the expense of throwing away much of the light hitting the telescope. \n",
    "\n",
    "Suppose you were on the instrument team tasked with designing the mask for this instrument. You have been asked to write software that simulate that takes an image and, for a given mask, simulates what that image would look like with the given mask. The input image could be of anything, and the mask could have 7, 8, 9, etc. holes, and the locations of holes could vary from one mask to the next. \n",
    "\n",
    "Lay out in pseudo-code the structure of the software package that would perform this task. Some things to think about:\n",
    "* It often helps to structure a software package as a series of small functions, each of which completes a specific task, rather than one big function. For example, you might have one function whose task is to read in an image and return that image in a format (e.g., a numpy array) that can be used by another function. What specific tasks does your code need to do? \n",
    "* What inputs do you need, and what format do you want them in? NIRISS can use one of three different filters to collect light at different wavelengths. Do you need this information when creating the simulated images?\n",
    "* What outputs should your software produce? A simulated image is required, but are there any metrics for evaluating that image that you could include? (Think about the M101 images you looked at last time; what properties would you want to quantify?)\n",
    "* How would you test your software package to make sure it works properly? Are there any particular test images you could use, or test masks you could use? One big thing we have talked about is how baselines of different lengths tell us about spatial features of different sizes in our image. How does this influence the test images, or test masks, that you might want?"
   ]
  },
  {
   "cell_type": "markdown",
   "id": "8b18c0c6",
   "metadata": {},
   "source": [
    "**Answer:**"
   ]
  },
  {
   "cell_type": "markdown",
   "id": "c5a2332f",
   "metadata": {},
   "source": [
    "#### To turn in this lab, either email me (kmf4) a copy of this notebook, or place your copy in the Shared/Astro211_F25/Interferometry folder in the Astro server."
   ]
  },
  {
   "cell_type": "markdown",
   "id": "5a50945c",
   "metadata": {},
   "source": []
  }
 ],
 "metadata": {
  "language_info": {
   "name": "python"
  }
 },
 "nbformat": 4,
 "nbformat_minor": 5
}
