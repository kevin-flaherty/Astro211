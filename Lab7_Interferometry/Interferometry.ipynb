{
 "cells": [
  {
   "cell_type": "markdown",
   "metadata": {},
   "source": [
    "# Interferometry\n",
    "\n",
    "**Before you do anything else, go to *File -> Save As* and change the filename to include your name or initials. Make any requested edits to that copy.**\n",
    "\n",
    "### Names: [Insert Names Here]\n",
    "---"
   ]
  },
  {
   "cell_type": "markdown",
   "metadata": {},
   "source": [
    "**New Code**\n",
    "- Calculate the one-dimensional Fourier Transform of a series.\n",
    "- Calculate the frequencies associated with the one-dimensional Fourier Transform.\n",
    "- Calculate the amplitude of a complex number.\n",
    "- Set the size of a figure.\n",
    "- Read in a .png file.\n",
    "- Calculate the two-dimensional Fourier Transform\n",
    "- Calculate the two-dimensional inverse Fourier Transform\n"
   ]
  },
  {
   "cell_type": "markdown",
   "metadata": {},
   "source": [
    "As we will see in class, the long wavelengths of radio emission make it difficult to obtain images at high spatial resolution. Spatial resolution can be improved by combining the signal from multiple telescopes to create a telescope with an effective resolution set by the distance between the telescopes. \n",
    "\n",
    "Consider two radio telescopes, separated by a distance $u_1$, and imagine the wave-like photons from an object directly overhead arriving at these two telescopes. If the object is directly overhead, the photons will arrive at the two telescopes at the same time, and when we multiply the two signals together they will *constructively interfere* to create a strong signal. \n",
    "\n",
    "But what if the object is not directly overhead? If it is at an angle $\\theta$ from directly overhead, then the photons will not arrive at the two telescopes at the exact same time. If the angle $\\theta$ is just right, then the peak of the wave-photon will arrive at one telescope will arrive just as the minimum arrives at the other telescope. When we combine the signal from the two telescopes, they will *destructively interfere* resulting in zero signal!\n",
    "\n",
    "The angle $\\theta$ at which the signals destructively interfere depends on the distance between the telescopes. For telescopes close together, $\\theta$ has to be large before the signals destructively interfere. If the telescopes are far apart $\\theta$ is small before the signals destructively interfere. This leads to the central principle of radio interferometric telescopes:\n",
    "\n",
    "**Telescopes separated by different distances are sensitive to features of different sizes on the sky, with closely spaced telescopes sensitive to large features on the sky and far apart telescopes sensitive to small features on the sky.**\n",
    "\n",
    "\n",
    "But each pair of antennas is only sensitive to features of a particular size. How does that help create an image, which might have features of all sorts of different sizes? Here we rely on *Fourier Transforms*. A Fourier transform says that anything (e.g., a one-dimensional signal, an image of your favortie cat) can be broken down into a collection of sine and cosine curves of different frequencies. Given an infinite number of sine and cosine curves we can fully represent an image. In our case, telescopes that are far apart provide information on the high frequency sine and cosine curves, while telescopes that are close together provide information on the low frequency sine and cosine curves. \n",
    "\n",
    "It would be great if we had an infinite number of telescopes covering an infinite number of frequencies. Then it would be easy to create images! Sadly, that is not the case. So how do we handle the fact that we have a finite number of telescopes, that tell us about a finite number of frequencies? (Hint: Carefully)\n",
    "\n",
    "In this lab you will explore Fourier transforms, and how incomplete spatial information can complicate our ability to interpret images of the sky. By the end of this lab you will *not* be expected to be able to calculate a Fourier transform, or even to write out the equation of a Fourier transform. You will be expected to be able to describe how spatial scales on the sky correspond to antenna separations on the ground, and how antenna spacings affect what we see on the sky. "
   ]
  },
  {
   "cell_type": "markdown",
   "metadata": {},
   "source": [
    "### Fourier transforms\n",
    "\n",
    "Let us start by talking about Fourier Transforms. At the heart of a Fourier Transform is a term that looks like this:\n",
    "\n",
    "$\\exp[i\\phi]$\n",
    "\n",
    "This complex exponential is equivalent to:\n",
    "\n",
    "$\\exp[i\\phi] = \\cos(\\phi) + i\\sin(\\phi)$\n",
    "\n",
    "In a Fourier Transform the complex exponential is used to represent sine and cosine curves of different frequencies. A Fourier Transform relies on the sum (i.e. integral) of sine and cosine curves at all frequencies ($k$). \n",
    "\n",
    "$F(k) = \\int f(x)\\exp[-i2\\pi kx]dx$\n",
    "\n",
    "The Fourier Transform ($F(k)$) represents that amplitude and phase of the sine and cosine curves at different frequencies. For our radio telescope, $f(x)$ represents the distribution of flux on the sky, while the frequencies ($k$) correspond to the distance between our radio antennas. \n",
    "\n",
    "Note: The Fourier transform has a real and imaginary part because of the complex exponential. Instead of talking about the real and imaginary part, we will talk about the amplitude and phase. The amplitude and phase can be calculated as:\n",
    "\n",
    "${\\rm amplitude} = \\sqrt{({\\rm real\\ part})^2 + ({\\rm imaginary\\ part})^2}$\n",
    "\n",
    "${\\rm phase} = \\arctan\\left(\\frac{{\\rm imaginary\\ part}}{{\\rm real\\ part}}\\right )$\n",
    "\n",
    "\n",
    "The takeways are:\n",
    "* Imagine an image on the sky as being broken down into a series of sine and cosine curves. The sine and cosine curves come in all sorts of different frequencies (and phases), and some frequencies are stronger than others.\n",
    "* Two telescopes separated by a given distance will be sensitive to one of those frequencies.\n",
    "* Telescopes that are farther apart are sensitive to sine and cosine curves at higher frequencies, which correspond to smaller features on the sky. Telescopes that are closer together are sensitive to sine and cosine curves at smaller frequencies, which correspond to larger frequencies on the sky.\n",
    "\n",
    "But before we dig in to radio telescopes, let us look at some simple one-dimensional examples of a Fourier transform."
   ]
  },
  {
   "cell_type": "code",
   "execution_count": null,
   "metadata": {},
   "outputs": [],
   "source": [
    "#Import the packages that we will use\n",
    "import numpy as np\n",
    "import matplotlib.pyplot as plt\n",
    "from astropy.io import fits\n",
    "\n",
    "%matplotlib inline"
   ]
  },
  {
   "cell_type": "markdown",
   "metadata": {},
   "source": [
    "Let us start with two sine curves of different frequencies. Since a Fourier transform breaks a signal down into a combination of sine and cosines, a sine curve will have a simple Fourier transform."
   ]
  },
  {
   "cell_type": "code",
   "execution_count": null,
   "metadata": {},
   "outputs": [],
   "source": [
    "# Let us start with two sine curves, with different frequencies\n",
    "\n",
    "x = np.arange(100)\n",
    "freq1 = .1 # High frequency\n",
    "freq2 = .01 # Low frequency\n",
    "f1 = np.sin(2*np.pi*x*freq1)\n",
    "f2 = np.sin(2*np.pi*x*freq2)\n",
    "\n",
    "plt.plot(x,f1)\n",
    "plt.plot(x,f2)\n",
    "\n",
    "plt.xlabel('x',fontsize='16')\n",
    "plt.ylabel('f(x)',fontsize='16')\n",
    "plt.legend(('f1','f2')) # This adds a legend so that we know which line is which"
   ]
  },
  {
   "cell_type": "markdown",
   "metadata": {},
   "source": [
    "What would you expect if we took the Fourier Transform of each of these functions? The Fourier transform should have a large amplitude at the frequency of the sine curve, with zero amplitude at other frequencies.\n",
    "\n",
    "\n",
    "As mentioned above, we are interested in the amplitude of the Fourier transform at different frequencies. In python, the amplitude can be calculated using the `np.abs` function within numpy. This function nominally calculates the absolute value of a number, but also calculates the amplitude of a complex number.\n",
    "\n",
    ">**Q:** The code below calculates the Fourier transform for the two functions above, and then plots the amplitude as a function of frequency. But it is missing some pieces related to the graphs. Fill in the missing pieces so as to label the graphs."
   ]
  },
  {
   "cell_type": "code",
   "execution_count": null,
   "metadata": {},
   "outputs": [],
   "source": [
    "fft1 = np.fft.fft(f1) #Take the one-dimensional Fourier Transform\n",
    "fft2 = np.fft.fft(f2)\n",
    "\n",
    "\n",
    "freq = np.fft.fftfreq(f1.shape[0]) #Calculates the frequencies\n",
    "N=len(freq)\n",
    "\n",
    "plt.plot(freq[:N//2],np.abs(fft1)[:N//2],'o') #The second half of the frequency list is filled with negative frequencies. We will ignore them for now\n",
    "#Add a vertical line at freq1\n",
    "# Label the X-axis as Amplitude and label the y-axis as Frequency\n",
    "# Add a title indicating that this figure is the Fourier Transform of f1(x)\n",
    "\n",
    "plt.show()\n",
    "\n",
    "plt.plot(freq[:N//2],np.abs(fft2)[:N//2],'+')\n",
    "#Add a vertical line at freq2\n",
    "# Label the X-axis as amplitude and label the y-axis as Frequency\n",
    "# Add a title indicating that this figure is the Fourier Transform of f2(x)\n",
    "\n",
    "plt.show()"
   ]
  },
  {
   "cell_type": "markdown",
   "metadata": {},
   "source": [
    "The Fourier Transform of $f1(x)$ has zero amplitude at all frequencies, except for one frequency. The same is true of the Fourier transform of $f2(k)$, but here the frequency at which it has non-zero amplitude is smaller, as expected.\n",
    "\n",
    "Now lets consider a more complicated example\n",
    "\n",
    "> **Q:** Create a variable `f3` that is the sum of `f1` and `f2`. Plot this new variable as a function of `x`, making sure to label the axes.\n"
   ]
  },
  {
   "cell_type": "code",
   "execution_count": null,
   "metadata": {},
   "outputs": [],
   "source": [
    "#insert code here\n"
   ]
  },
  {
   "cell_type": "markdown",
   "metadata": {},
   "source": [
    "> **Q:** What do you predict for the Fourier transform of `f3`\n",
    "\n",
    "**[insert answer here]**\n",
    "\n",
    "> **Q:** Compute and plot the fourier transform of `f3`. What do you notice about the result?\n",
    "\n",
    "**[insert answer here]**"
   ]
  },
  {
   "cell_type": "code",
   "execution_count": null,
   "metadata": {},
   "outputs": [],
   "source": [
    "#insert code here\n"
   ]
  },
  {
   "cell_type": "markdown",
   "metadata": {},
   "source": [
    "Now lets look at a more complex case; a function that is zero everywhere, except for a narrow range of positions, where the value is one."
   ]
  },
  {
   "cell_type": "code",
   "execution_count": null,
   "metadata": {},
   "outputs": [],
   "source": [
    "#Now let us consider something different: a step function\n",
    "x = np.arange(100)\n",
    "step1 = np.zeros(len(x))\n",
    "step1[45:55] = 1 #A narrow step function 45:55\n",
    "step2 = np.zeros(len(x))\n",
    "step2[15:85] = 1 #A wider step function 15:85\n",
    "\n",
    "plt.plot(x,step1)\n",
    "plt.plot(x,step2)\n",
    "plt.legend(('Narrow','Wide'))"
   ]
  },
  {
   "cell_type": "markdown",
   "metadata": {},
   "source": [
    "> **Q:** In the cell below add code for calculating the Fourier Transform of step1 and step2"
   ]
  },
  {
   "cell_type": "code",
   "execution_count": null,
   "metadata": {},
   "outputs": [],
   "source": [
    "#Lets calculate the Fourier Transform of these two functions\n",
    "fft_step1 =  #insert code to calculate the Fourier Transform of step1\n",
    "fft_step2 =  #insert code to calculate the Fourier Transform of step2\n",
    "\n",
    "freq = np.fft.fftfreq(step1.shape[0])\n",
    "N=len(freq)\n",
    "plt.plot(freq[:N//2],(np.abs(fft_step1)[:N//2])/np.max(np.abs(fft_step1)[:N//2]))\n",
    "plt.plot(freq[:N//2],(np.abs(fft_step2)[:N//2])/np.max(np.abs(fft_step2)[:N//2]))\n",
    "\n",
    "plt.ylabel('Normalized Amplitude',fontsize='16')\n",
    "plt.xlabel('Frequency',fontsize='16')\n"
   ]
  },
  {
   "cell_type": "markdown",
   "metadata": {},
   "source": [
    "Now, instead of having a non-zero amplitude at a single frequency, we have a non-zero amplitude at a wide range of frequencies. The difference in the two Fourier transforms reflects differences in the shape of the two step functions. \n",
    "\n",
    "> **Q:** Which frequency component is the strongest in both Fourier transforms?\n",
    "\n",
    "**[insert answer here]**\n",
    "\n",
    "> **Q:** How does the shape differ between the two curves? How is this related to the width of the step? \n",
    "\n",
    "**[insert answer here]**"
   ]
  },
  {
   "cell_type": "markdown",
   "metadata": {},
   "source": [
    "One application of the Fourier Tranform of a step function is in optical telescopes. The illumination of the primary mirror by photons by a distant object is similar to the step function (the mirror collects photons that fall onto its surface, but misses photons that fall outside of its surface). The width of the step function corresponds to the diameter of the telescope.\n",
    "\n",
    "The Fourier transform of the illumination pattern (in particular, the square of the amplitudes) is then the image that is created on our CCD detector. In this case the x-axis of the Fourier transform is position on the detector, while the y-axis is related to the strength of the signal. In the example above you saw that the wider step function, corresponding to a telescope with a larger diameter mirror, produced a narrower signal, as expected from the relation between telescope diameter and angular resolution ($\\theta = \\lambda / D$).\n",
    "\n",
    "This behavior allows us to consider more complex situations.\n",
    ">**Q:** A secondary mirror will block out some of the light from reaching the primary mirror. This can be modeled as a step function in which a region in the middle has a value of zero. Take `step2` and set the values between position 40 and 60 to 0. Calculate and plot the Fourier Transform of this new step function. How does it differ from the case when there is no secondary mirror?\n"
   ]
  },
  {
   "cell_type": "code",
   "execution_count": null,
   "metadata": {},
   "outputs": [],
   "source": [
    "#insert code here\n"
   ]
  },
  {
   "cell_type": "markdown",
   "metadata": {},
   "source": [
    "We will stop here for now, but you can extend this idea further to simulate the images generated in more complex situations, like a circular secondary mirror held up by narrow arms, or a series of mirror segments, like with JWST."
   ]
  },
  {
   "cell_type": "markdown",
   "metadata": {},
   "source": [
    "### Two-dimensional Fourier transforms\n",
    "\n",
    "As discussed above, the signal measured by a radio interferometer is the two-dimensional Fourier transform of the image on the sky. That Fourier transform is sampled at different frequencies, corresponding to the distances between pairs of antennas. The incomplete sampling of frequencies leads to complications when trying to reconstruct an image.\n",
    "\n",
    "Lets load a non-astronomical image and see what the two-dimensional Fourier Transform looks like."
   ]
  },
  {
   "cell_type": "code",
   "execution_count": null,
   "metadata": {},
   "outputs": [],
   "source": [
    "ch_image = plt.imread('CH_last-ConvertImage.png') #Load in the image\n",
    "fig = plt.figure(figsize=(20,20)) #Make the image bigger than normal so that it is legible.\n",
    "plt.imshow(ch_image,plt.cm.gray) #Show the image"
   ]
  },
  {
   "cell_type": "markdown",
   "metadata": {},
   "source": [
    "Now lets take the Fourier Transform of this image and see what it looks like."
   ]
  },
  {
   "cell_type": "code",
   "execution_count": null,
   "metadata": {},
   "outputs": [],
   "source": [
    "from matplotlib.colors import LogNorm\n",
    "\n",
    "#This creates a function that will plot the 2D Fourier Transform on a logarithmic scale.\n",
    "# You will use this function later.\n",
    "def plot_spectrum(im_fft):\n",
    "    plt.imshow(np.abs(im_fft),norm=LogNorm(vmin=5))\n",
    "    plt.axvline(im_fft.shape[1]/2,color='r',ls='--')\n",
    "    plt.axhline(im_fft.shape[0]/2,color='r',ls='--')\n",
    "    plt.colorbar()"
   ]
  },
  {
   "cell_type": "code",
   "execution_count": null,
   "metadata": {},
   "outputs": [],
   "source": [
    "#Create and plot the Fourier Transform\n",
    "fft_ch = np.fft.fft2(ch_image) #Takes a two-dimensional Fourier transform\n",
    "fig = plt.figure(figsize=(15,15))\n",
    "plot_spectrum(fft_ch)"
   ]
  },
  {
   "cell_type": "markdown",
   "metadata": {},
   "source": [
    "We now have two frequencies ($k_x$ and $k_y$) corresponding to the two physical dimensions of the image. The X-axis on the Fourier transform corresponds to sine and cosines along the X-direction of the image (e.g. $\\cos(2\\pi k_x x)$) while the Y-axis on the Fourier Transform corresponds to sines and cosines along the Y-direction of the image (e.g. $\\cos(2\\pi k_y y)$). Note: the numbers on the axes above do not correspond to the frequencies, but simply the index number of the array containing the Fourier Transform.\n",
    "\n",
    "The upper left position corresponds to $k_x$=0 and $k_y$=0. Moving along either axis the frequencies increase until reaching the halfway point (marked by the red lines). At this point the frequencies become negative and decrease back down to zero. This induces the symmetry in the Fourier Transform figure; the upper left (and upper right and lower right and lower left) correspond to $k_x=0$ and $k_y=0$ and hence have the sample amplitude.\n",
    "\n"
   ]
  },
  {
   "cell_type": "code",
   "execution_count": null,
   "metadata": {},
   "outputs": [],
   "source": [
    "# Answer the questions in the next two lines:\n",
    "kx = np.fft.fftfreq(ch_image.shape[0]) #What does this line do?\n",
    "ky = np.fft.fftfreq(ch_image.shape[1]) #What does this line do?\n",
    "print('Number of frequencies in the X-direction: ',len(kx))\n",
    "print('Number of frequencies in the Y-direction: ',len(ky))\n",
    "\n",
    "# Check that the frequencies are zero in each of the corners\n",
    "print('Frequency in upper left: {:0.1f},{:0.1f}'.format(kx[0],ky[0]))\n",
    "print('Frequency in lower right: {:0.1f},{:0.1f}'.format(kx[-1],ky[-1]))\n",
    "print('Frequency in lower left: {:0.1f},{:0.1f}'.format(kx[-1],ky[0]))\n",
    "print('Frequency in upper right: {:0.1f},{:0.1f}'.format(kx[0],ky[-1]))"
   ]
  },
  {
   "cell_type": "markdown",
   "metadata": {},
   "source": [
    ">**Q:** What does `np.fft.fftfreq(ch_image.shape[0])` do? What about `np.fft.fftfreq(ch_image.shape[1])`?\n",
    "\n",
    "**[Insert answer here]**\n",
    "\n",
    ">**Q:** What frequencies have the strongest signal in the Fourier Transform of the comic?\n",
    "\n",
    "**[Insert answer here]**\n",
    "\n",
    ">**Q:** What are the largest frequencies in the Fourier Transform?\n",
    "\n",
    "**[Insert answer here]**"
   ]
  },
  {
   "cell_type": "code",
   "execution_count": null,
   "metadata": {},
   "outputs": [],
   "source": [
    "#insert code here\n"
   ]
  },
  {
   "cell_type": "markdown",
   "metadata": {},
   "source": [
    "If we reconstructed the image from this Fourier Transform we would exactly reproduce the original image. But radio interferometers do not collect information at every frequency, and we must attempt to recreate the image from this incomplete information. This affects the type of image that is reconstructed.\n",
    "\n",
    "First lets consider an example in which we are missing information from high spatial frequencies"
   ]
  },
  {
   "cell_type": "code",
   "execution_count": null,
   "metadata": {},
   "outputs": [],
   "source": [
    "fft_ch_copy = fft_ch.copy() #Copy the Fourier Transform into a new variable\n",
    "fig = plt.figure(figsize=(15,15))\n",
    "fft_ch_copy[20:np.shape(fft_ch)[0]-20,:] = 0 #Set the Fourier Transform to zero everywhere except for the first, and last, twenty frequencies\n",
    "fft_ch_copy[:,20:np.shape(fft_ch)[1]-20] = 0 #Same as above but in the Y-direction\n",
    "plot_spectrum(fft_ch_copy) #Plot the Fourier Transform so we can see the damage that we have done\n",
    "plt.show()\n",
    "\n",
    "fig = plt.figure(figsize=(20,20))\n",
    "new_ch = np.fft.ifft2(fft_ch_copy).real #Take the inverse Fourier Transform, which reconstructs an image\n",
    "plt.imshow(new_ch,plt.cm.gray)"
   ]
  },
  {
   "cell_type": "markdown",
   "metadata": {},
   "source": [
    ">**Q:** The different frequencies correspond to features at different spatial scales in the image. Based on what you see above, do low frequencies contain information on large or small spatial scales in an image?\n",
    "\n",
    "**[insert answer here]**\n",
    "\n",
    ">**Q:** Do low frequencies correspond to radio antennas that are close together or far apart? \n",
    "\n",
    "**[insert answer here]**\n",
    "\n",
    ">**Q:** In the block below, reconstruct an image that is built from a scenario in which the 20 lowest frequencies are set to zero, while the high frequency information is preserved. What features appear in this image that were missing from the previous image?\n",
    "\n",
    "**[insert answer here]**\n"
   ]
  },
  {
   "cell_type": "code",
   "execution_count": null,
   "metadata": {},
   "outputs": [],
   "source": [
    "#insert code here\n"
   ]
  },
  {
   "cell_type": "markdown",
   "metadata": {},
   "source": [
    "What happens if we are missing *some* of the short or long frequency measurements? This causes additional complications.\n",
    "\n",
    "Below we consider the artificial example in which we are missing the information from every tenth frequency. "
   ]
  },
  {
   "cell_type": "code",
   "execution_count": null,
   "metadata": {},
   "outputs": [],
   "source": [
    "fft_ch_copy = fft_ch.copy()\n",
    "fft_ch_copy[::10,:] = 0 #Simulates a situation in which are missing information on every tenth frequency \n",
    "fft_ch_copy[:,::10] = 0\n",
    "fig = plt.figure(figsize=(15,15))\n",
    "plot_spectrum(fft_ch_copy)\n",
    "plt.show()\n",
    "\n",
    "fig = plt.figure(figsize=(20,20))\n",
    "new_ch = np.fft.ifft2(fft_ch_copy).real\n",
    "plt.imshow(new_ch,plt.cm.gray)"
   ]
  },
  {
   "cell_type": "markdown",
   "metadata": {},
   "source": [
    "The missing information leads to a host of artifacts within the reconstructed image including structures that were not present in the original image. This can cause complications if we were to e.g. measure the 'flux' from a region of this image. "
   ]
  },
  {
   "cell_type": "markdown",
   "metadata": {},
   "source": [
    "### Putting it all together\n",
    "\n",
    "Now lets examine the effect this has on real data, by using one of the images of M101 and its supernova that we have looked at in the past.\n",
    "\n",
    "As discussed above, low and high frequency information corresponds to different separations between telescopes. For a radio interferometric array the telescopes are often moveable, which means you can choose a configuration for the telescopes, depending on what is best for your science. For example you can choose to:\n",
    "* Place all of the telescopes close together. \n",
    "* Spread out the telescopes as much as possible. \n",
    "* Keep some telescopes close together, while spreading out some of the telescopes over large distances. \n",
    "\n",
    "There are advantages and disadvantes to each of these choices. On Glow you will find three fits images. They represent reconstructed images using:\n",
    "* Only low frequencies (M101_lowonly.fits)\n",
    "* Only high frequencies (M101_highonly.fits)\n",
    "* A mix of high and low frequencies (M101_low+high.fits)\n",
    "\n",
    "> **Q:** Examine the images in ds9 and in the space below describe what the images look like. What features do you see in the different images? What is similar or different between the images? Are there any artifacts and if so what do they look like?\n",
    "\n",
    "**[insert answer here]**\n",
    "\n",
    "> **Q:** What is the SNR of the supernova in each of the images? How does the total flux of the supernova, and its noise, change between the different images? Calculate the SNR for these elements as you did in lab 5, by selecting out regions in the image that represent background, and regions that represent signal, and using these regions to calculate the SNR. \n",
    "\n",
    "**[insert answer here]**"
   ]
  },
  {
   "cell_type": "code",
   "execution_count": null,
   "metadata": {},
   "outputs": [],
   "source": [
    "#Insert code here \n"
   ]
  },
  {
   "cell_type": "markdown",
   "metadata": {},
   "source": [
    "> **Q:** What telescope configuration (close together, spread apart, or a mix of both) would you choose if you were interested in the total flux of the supernova? What if you were interested in the shape and structure of the galaxy? Why?\n",
    "\n",
    "**[insert answer here]**"
   ]
  },
  {
   "cell_type": "markdown",
   "metadata": {},
   "source": [
    "\n",
    "#### To turn in this lab, either email me (kmf4) a copy of this notebook, or place your copy in Shared/Astro211_F25/Interferometry folder in the Astro server."
   ]
  },
  {
   "cell_type": "markdown",
   "metadata": {},
   "source": []
  }
 ],
 "metadata": {
  "kernelspec": {
   "display_name": "Python 3 (ipykernel)",
   "language": "python",
   "name": "python3"
  },
  "language_info": {
   "codemirror_mode": {
    "name": "ipython",
    "version": 3
   },
   "file_extension": ".py",
   "mimetype": "text/x-python",
   "name": "python",
   "nbconvert_exporter": "python",
   "pygments_lexer": "ipython3",
   "version": "3.9.12"
  }
 },
 "nbformat": 4,
 "nbformat_minor": 2
}
