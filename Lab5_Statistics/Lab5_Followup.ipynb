{
 "cells": [
  {
   "cell_type": "markdown",
   "id": "856ce442",
   "metadata": {},
   "source": [
    "## Statistics - Follow Up\n",
    "\n",
    "**Before you do anything else, make a duplicate copy of this notebook, and update the name to include your name or initials. Make any requested edits to that copy.**\n",
    "\n",
    "### Names: [Insert your names here]\n",
    "\n",
    "Complete the activities below before the start of lab. Feel free to refer back to your python notebook from last week. "
   ]
  },
  {
   "cell_type": "markdown",
   "id": "1eb20627",
   "metadata": {},
   "source": [
    "---\n",
    "#### *You are allowed to use AI on any portion of this notebook.*\n",
    "\n",
    "---"
   ]
  },
  {
   "cell_type": "markdown",
   "id": "590da351",
   "metadata": {},
   "source": [
    "## 1\n",
    "\n",
    "What does the following block of code do? To answer this you might need to look up documentation for some of the functions that it uses.\n",
    "\n",
    "```python\n",
    "import astropy.units as u\n",
    "from astropy.coordinates import SkyCoord\n",
    "\n",
    "d_ngc3034 = np.random.normal(3.27e6,300e3,10)\n",
    "d_ngc3077 = np.random.normal(3.81e6,300e3,10)\n",
    "\n",
    "sep = []\n",
    "for i in range (1000):\n",
    "    ngc3034 = SkyCoord('09h55m52.92s','+69d40m46.14s',frame='fk5',distance=d_ngc3034*u.pc)\n",
    "    ngc3077 = SkyCoord('10h03m19.07s','+68d44m02.10s',frame='fk5',distance=d_ngc3077*u.pc)\n",
    "    sep.append(ngc3034.separation_3d(ngc3077).pc)\n",
    "\n",
    "print(np.median(sep),np.std(sep))\n",
    "\n",
    "```"
   ]
  },
  {
   "cell_type": "markdown",
   "id": "0cc9543c",
   "metadata": {},
   "source": [
    "**Answer:**"
   ]
  },
  {
   "cell_type": "markdown",
   "id": "23b037a7",
   "metadata": {},
   "source": [
    "## 2\n",
    "\n",
    "The above block of code contains errors. Fix them.\n",
    "\n",
    "## 3\n",
    "\n",
    "How could you generalize the above block of code into a function? In the space below, write out the function definition, and some documentation describing what the code does and what its inputs/outputs are?"
   ]
  },
  {
   "cell_type": "markdown",
   "id": "ca79cbaa",
   "metadata": {},
   "source": [
    "#### To turn in this lab, either email me (kmf4) a copy of this notebook, or place your copy in the Shared/Astro211_F25/Lab1 folder in the Astro server."
   ]
  },
  {
   "cell_type": "markdown",
   "id": "c567e40a",
   "metadata": {},
   "source": []
  }
 ],
 "metadata": {
  "kernelspec": {
   "display_name": "base",
   "language": "python",
   "name": "python3"
  },
  "language_info": {
   "codemirror_mode": {
    "name": "ipython",
    "version": 3
   },
   "file_extension": ".py",
   "mimetype": "text/x-python",
   "name": "python",
   "nbconvert_exporter": "python",
   "pygments_lexer": "ipython3",
   "version": "3.9.12"
  }
 },
 "nbformat": 4,
 "nbformat_minor": 5
}
