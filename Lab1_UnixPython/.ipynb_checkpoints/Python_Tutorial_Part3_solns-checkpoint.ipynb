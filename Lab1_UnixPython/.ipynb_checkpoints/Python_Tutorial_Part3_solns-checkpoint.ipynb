{
 "cells": [
  {
   "cell_type": "markdown",
   "metadata": {
    "id": "BYg7ICorx22Z"
   },
   "source": [
    "# Part 3\n",
    "\n",
    "### Names: [Insert names here]\n",
    "\n",
    "Pandas tutorial taken from [Prof. Colette Salyk's Python Tutorial](https://github.com/csalyk/python_tutorial).\n",
    "\n",
    "\n",
    "**Before you do anything else, go to File -> Save a Copy in Drive. Make any requested edits to that copy.**"
   ]
  },
  {
   "cell_type": "markdown",
   "metadata": {
    "id": "cPs04MwHyJIv"
   },
   "source": [
    "A substantial part of learning python is practicing syntax. What you learned earlier may not have immediately stuck, and it takes time to memorize all of the appropriate syntax. You can use the python cheat sheet, the matplotlib cheat sheet, and online resources like the Python for Astronomers textbook and forums like Stack Overflow to look up the exact syntax for a particular function/opertation.\n",
    "\n",
    "Another important part of learning python is learning how to deal with errors. When writing code we all make (many, many) mistakes regardless of how experienced we are. It is important to learn how to recognize and fix errors within your own code.\n",
    "\n",
    "Keep in mind that some mistakes prevent the code from compiling or running, and python will return an error. *Some mistakes will not prevent the code from running but will give the incorrect result.* This could be something like adding 2$\\pi$ instead of subtracting 2$\\pi$. It is important to understand what the code is supposed to do, and to have some idea of what the result should look like, in order to catch these mistakes.\n",
    "\n",
    "\n",
    "To practice both of these, the following blocks of code contains a series of commands that you learned about earlier, but with some errors. Run the code blocks to see the errors that are generated, and then correct them. The comments explain what the code should actually do. \n"
   ]
  },
  {
   "cell_type": "code",
   "execution_count": null,
   "metadata": {},
   "outputs": [],
   "source": [
    "import numpy as np\n",
    "import matplotlib.pyplot as plt\n",
    "%matplotlib inline"
   ]
  },
  {
   "cell_type": "code",
   "execution_count": 3,
   "metadata": {
    "id": "C4J_ydzg1l15"
   },
   "outputs": [
    {
     "name": "stdout",
     "output_type": "stream",
     "text": [
      "300\n"
     ]
    }
   ],
   "source": [
    "# Assign the numbers 12 and 25 to two variables, multiply the two variables, and print the result\n",
    "var1 = 12 #missing equals sign\n",
    "var2 = 25 #missing 25\n",
    "output = var1 * var2 #missing output, uses the wrong syntax for multiply\n",
    "print(output)"
   ]
  },
  {
   "cell_type": "code",
   "execution_count": 8,
   "metadata": {
    "id": "eMoBc56_2RXg"
   },
   "outputs": [
    {
     "name": "stdout",
     "output_type": "stream",
     "text": [
      "-0.5789421200202034\n",
      "0.692337088499393\n",
      "-2.1007660745865415\n",
      "-0.971922327097487\n",
      "1.6794928414490273\n",
      "0.6525673614820615\n",
      "0.24955739969640656\n",
      "-0.25926121830001175\n",
      "0.33683821390275875\n",
      "1.0077240778348582\n",
      "0.4655115928864371\n",
      "-1.17069417293095\n",
      "-1.0351000392760314\n",
      "-1.4261743100771762\n",
      "-0.2984015080173841\n",
      "-0.3447779023866763\n",
      "0.5095876244932633\n",
      "-1.4237586667358597\n",
      "0.1953275844547902\n",
      "-0.6190230462114441\n",
      "-1.4223593954787548\n",
      "-0.44648907227187856\n",
      "0.3919005704005246\n",
      "0.6608788434640782\n",
      "0.9375474101861988\n",
      "-0.4344281908947708\n",
      "-0.5209692401365906\n",
      "0.10348951628548078\n",
      "1.0101543709094079\n",
      "0.9872631076512643\n",
      "-0.7242725607695022\n",
      "-1.0142542115551394\n",
      "-0.0834022240318593\n",
      "1.647591615931592\n",
      "0.8915037606703837\n",
      "-0.8173711924358236\n",
      "0.6432137380242\n",
      "0.4986150480343717\n",
      "-0.19828245109459627\n",
      "-0.863240530049208\n",
      "-0.3194754212986633\n",
      "0.3221777747491953\n",
      "1.6591311448077788\n",
      "1.3617755731759447\n",
      "-1.3331174074164336\n",
      "-1.7984434647890393\n",
      "-0.6428948100090316\n",
      "-1.9340804981174031\n",
      "-0.933185981595048\n",
      "2.120407732230871\n"
     ]
    },
    {
     "data": {
      "text/plain": [
       "<matplotlib.lines.Line2D at 0x7fdf046f4400>"
      ]
     },
     "execution_count": 8,
     "metadata": {},
     "output_type": "execute_result"
    },
    {
     "data": {
      "image/png": "[encoded data removed]",
      "text/plain": [
       "<Figure size 432x288 with 1 Axes>"
      ]
     },
     "metadata": {
      "needs_background": "light"
     },
     "output_type": "display_data"
    }
   ],
   "source": [
    "import numpy as np\n",
    "import matplotlib.pyplot as plt\n",
    "# Create an array that contains 1000 random variables drawn from a normal distribution, with a mean of 0 and a standard deviation of 1\n",
    "x = np.random.randn(1000) #<- There are no errors in this statement\n",
    "\n",
    "\n",
    "# Use a for loop to print out every 20th element in x\n",
    "for i in range(0,1000,20): #missinng syntax for every 20th element\n",
    "  print(x[i]) #missing a ]\n",
    "\n",
    "#Plot a histogram, with 50 bins, of the values within x.\n",
    "# Include a vertical line at 0, to mark the mean\n",
    "plt.hist(x,50) #missing the number of bins\n",
    "plt.axvline(0.) #missing )"
   ]
  },
  {
   "cell_type": "markdown",
   "metadata": {
    "id": "go6HVMGo3UG5"
   },
   "source": [
    "Now let's put everything together to write your own code!\n",
    "\n",
    "The file gammagem_spec.txt contains the spectrum of the star Gamma Gem. The first column is the wavelength in Angstroms, and the second column is the flux (in units of ergs/s/cm^2/Angstrom.\n",
    "\n",
    "> **Write a function to read in the file and plot the spectrum. The function should take the filename as an input, and label the axes of the plot.**"
   ]
  },
  {
   "cell_type": "code",
   "execution_count": null,
   "metadata": {
    "id": "fX6Rma79dOzo"
   },
   "outputs": [
    {
     "name": "stdout",
     "output_type": "stream",
     "text": [
      "(56000, 2)\n"
     ]
    },
    {
     "data": {
      "text/plain": [
       "[<matplotlib.lines.Line2D at 0x7fdf0508d220>]"
      ]
     },
     "execution_count": 10,
     "metadata": {},
     "output_type": "execute_result"
    }
   ],
   "source": [
    "#enter code here\n",
    "spec = np.loadtxt('gammagem_spec.txt',dtype='str')\n",
    "plt.plot(spec[:,0],spec[:,1])\n"
   ]
  },
  {
   "cell_type": "markdown",
   "metadata": {
    "id": "XTU3WAS86eTU"
   },
   "source": [
    "### Pandas Data Frames\n",
    "\n",
    "When you start dealing with large amounts of data, it is helpful to arrange the data as a data frame, which we will describe below.\n",
    "\n",
    "The data we will read in are a compilation of daily average concentrations (in parts per billion) of NOx compounds at 13 different locations in Switzerland. NOx compounds are a chemical shorthand for NO$_2$ and NO - Nitrogen-based air pollutants.\n",
    "\n",
    "Let's load the csv file above as a pandas dataframe. First we need to import the pandas library."
   ]
  },
  {
   "cell_type": "code",
   "execution_count": null,
   "metadata": {
    "id": "qkFHj96K26ig"
   },
   "outputs": [],
   "source": [
    "import pandas as pd"
   ]
  },
  {
   "cell_type": "markdown",
   "metadata": {
    "id": "2x1X3Ea37uxG"
   },
   "source": [
    "Now lets read in the file and store it as a dataframe object, df."
   ]
  },
  {
   "cell_type": "code",
   "execution_count": null,
   "metadata": {
    "id": "uwzPAy6G7uLz"
   },
   "outputs": [],
   "source": [
    "df = pd.read_csv(\"https://raw.githubusercontent.com/csalyk/python_tutorial/master/ambientNOxCH.csv\")"
   ]
  },
  {
   "cell_type": "markdown",
   "metadata": {
    "id": "35-Knvw373uH"
   },
   "source": [
    "To see all the data in the dataframe, you can simply evaluate the variable."
   ]
  },
  {
   "cell_type": "code",
   "execution_count": null,
   "metadata": {
    "id": "6aFXXghx70ds"
   },
   "outputs": [],
   "source": [
    "df"
   ]
  },
  {
   "cell_type": "markdown",
   "metadata": {
    "id": "-tP0RCBq7956"
   },
   "source": [
    "To see a row in the table:"
   ]
  },
  {
   "cell_type": "code",
   "execution_count": null,
   "metadata": {
    "id": "I_lDdSAF77W2"
   },
   "outputs": [],
   "source": [
    "df.loc[2]"
   ]
  },
  {
   "cell_type": "markdown",
   "metadata": {
    "id": "I9ZLLS5c8Co9"
   },
   "source": [
    "To see multiple rows:"
   ]
  },
  {
   "cell_type": "code",
   "execution_count": null,
   "metadata": {
    "id": "CfyMvAEz8Ab-"
   },
   "outputs": [],
   "source": [
    "df.loc[[2,4,6]]"
   ]
  },
  {
   "cell_type": "markdown",
   "metadata": {
    "id": "Yrwc9slc8G9W"
   },
   "source": [
    "To see a range of rows:"
   ]
  },
  {
   "cell_type": "code",
   "execution_count": null,
   "metadata": {
    "id": "SR1Z2zHa8FRD"
   },
   "outputs": [],
   "source": [
    "df.loc[2:5]"
   ]
  },
  {
   "cell_type": "markdown",
   "metadata": {
    "id": "1ELy647w8M8z"
   },
   "source": [
    "To see all the values for a column:"
   ]
  },
  {
   "cell_type": "code",
   "execution_count": null,
   "metadata": {
    "id": "zf9yxREP8KWP"
   },
   "outputs": [],
   "source": [
    "df.loc[:,\"date\"]"
   ]
  },
  {
   "cell_type": "markdown",
   "metadata": {
    "id": "_LsNgQrT8S1K"
   },
   "source": [
    "To see multiple columns:"
   ]
  },
  {
   "cell_type": "code",
   "execution_count": null,
   "metadata": {
    "id": "CFV0JwbE8QbE"
   },
   "outputs": [],
   "source": [
    "df.loc[:,['date','ad']]"
   ]
  },
  {
   "cell_type": "markdown",
   "metadata": {
    "id": "1l2DOYwh8Y8B"
   },
   "source": [
    "To see a row and column:"
   ]
  },
  {
   "cell_type": "code",
   "execution_count": null,
   "metadata": {
    "id": "ucm4l0vo8Wfs"
   },
   "outputs": [],
   "source": [
    "df.loc[2,'date']"
   ]
  },
  {
   "cell_type": "markdown",
   "metadata": {
    "id": "yJ13yI0t8cqN"
   },
   "source": [
    "To see a row and multiple columns:"
   ]
  },
  {
   "cell_type": "code",
   "execution_count": null,
   "metadata": {
    "id": "EDBDh11n8bz_"
   },
   "outputs": [],
   "source": [
    "df.loc[2,['date','ad']]"
   ]
  },
  {
   "cell_type": "markdown",
   "metadata": {
    "id": "wWX0FOR18jNc"
   },
   "source": [
    "To see multiple rows and columns:"
   ]
  },
  {
   "cell_type": "code",
   "execution_count": null,
   "metadata": {
    "id": "zlF2p1JW8hck"
   },
   "outputs": [],
   "source": [
    "df.loc[[2,4],['date','ad']]"
   ]
  },
  {
   "cell_type": "markdown",
   "metadata": {
    "id": "LNKTq3G08oaD"
   },
   "source": [
    "Once you have your data in a dataframe, you can query the dataframe. Here's how to show where 'ad' is greater than 50."
   ]
  },
  {
   "cell_type": "code",
   "execution_count": null,
   "metadata": {
    "id": "T5VSlax48nX0"
   },
   "outputs": [],
   "source": [
    "df['ad']>50"
   ]
  },
  {
   "cell_type": "markdown",
   "metadata": {
    "id": "PelNB9US-H-t"
   },
   "source": [
    "### Example plots of NOx data\n",
    "\n",
    "Last time you learned some basics about plotting and we will cover more here. \n",
    "\n",
    "Most plotting in python is done with the matplotlib library. A popular strategy for making python plots is to find a feature you're interested in (for example, a bar chart) on the matplotlib thumbnail gallery: [http://matplotlib.org/gallery.html](http://matplotlib.org/gallery.html). Then click on it to find the code that produced it. You can also google for information, using searches like \"How to plot circles matplotlib python\". [Matplotlib cheatseets](https://github.com/matplotlib/cheatsheets) are also available.\n",
    "\n",
    "All plots will begin with the same few lines of code:\n",
    "\n",
    "*   `fig = plt.figure(figsize=(10,4))` will create a new figure, with the requested size (x by y)\n",
    "*   `ax1=fig.add_subplot(111)` will add an axis (called `ax1`) to this figure. 111 means to make this axis the first on a 1x1 grid of axes.\n",
    "\n",
    "Most plots will also include these lines:\n",
    "\n",
    "*   `ax1.set_xlim([startx,endx])` Set the x limits of your plot\n",
    "*   `ax1.set_ylim([starty,endy])` Set the y limits of your plot\n",
    "*   `ax1.set_xlabel('my x label here')` Set the label for the x axis\n",
    "*   `ax1.set_ylabel('my y label here')` Set the label for the y axis\n",
    "*   `ax1.set_title('my label here')` Set a title for your plot\n",
    "*   `fig.savefig('myplotname.png')` Save you plot!\n",
    "\n",
    "Let's use our NOx dataset to see how NOx concentrations vary with time at a couple of different sites. Before getting into the plotting details, we'll need to make some changes to the dates so that python can read them properly.\n",
    "\n",
    "\n",
    "\n"
   ]
  },
  {
   "cell_type": "code",
   "execution_count": null,
   "metadata": {
    "id": "-pBwbIZU8u0N"
   },
   "outputs": [],
   "source": [
    "from datetime import datetime\n",
    "\n",
    "#Here we'll convert the dates in the data frame to a special python \"datetime\" format.\n",
    "time_format = '%Y-%m-%d'\n",
    "time = [datetime.strptime(i,time_format) for i in df['date']]"
   ]
  },
  {
   "cell_type": "markdown",
   "metadata": {
    "id": "ikC5Y-33E5kK"
   },
   "source": [
    "Here's an example scatter plot showing the data for locations 'ad' and 'ba'."
   ]
  },
  {
   "cell_type": "code",
   "execution_count": null,
   "metadata": {
    "id": "fWuhzYwME4NZ"
   },
   "outputs": [],
   "source": [
    "fig=plt.figure(figsize=(12,4))\n",
    "ax1=fig.add_subplot(111)\n",
    "\n",
    "#Here we'll extract data from the pandas dataframe and assign it to the variables x,\n",
    "#y1 and y2\n",
    "x = time\n",
    "y1=df['ad']\n",
    "y2=df['ba']\n",
    "\n",
    "ax1.plot(x,y1, 'ro', label='ad')   #We can make this a scatter plot by specifying 'r' (red) and 'o' (circles)\n",
    "ax1.plot(x,y1, 'r')   #By default, python will plot a line connecting all (x,y) points\n",
    "#Notice that if we use multiple plot commands, python will put all of the plots on top of\n",
    "#each other!\n",
    "\n",
    "ax1.plot(x,y2, 'bo', label='ba')   #We can make this a scatter plot by specifying 'r' (red) and 'o' (circles)\n",
    "ax1.plot(x,y2, 'b')   #By default, python will plot a line connecting all (x,y) points\n",
    "#Notice that if we use multiple plot commands, python will put all of the plots on top of\n",
    "#each other!\n",
    "\n",
    "ax1.set_xlabel('Date')\n",
    "ax1.set_ylabel('NOx concentration [ppb]')\n",
    "ax1.set_title('Daily average NOx concentrations in Switzerland')\n",
    "\n",
    "#Use this command to create a legend\n",
    "ax1.legend()"
   ]
  },
  {
   "cell_type": "markdown",
   "metadata": {
    "id": "-KZBW6cvFGC8"
   },
   "source": [
    "**Try it:** Try making your own plot. Copy the code above into a new cell, then modify the code to plot the NOx concentrations in the 'ef' and 'la' regions. Make the symbols stars instead of circles, and connect them with dotted lines."
   ]
  },
  {
   "cell_type": "code",
   "execution_count": null,
   "metadata": {
    "id": "6BUHOlMZFCb7"
   },
   "outputs": [],
   "source": []
  },
  {
   "cell_type": "markdown",
   "metadata": {},
   "source": [
    "### To turn in this lab, share the lab with me using the *Share* button in the upper right."
   ]
  }
 ],
 "metadata": {
  "colab": {
   "collapsed_sections": [],
   "name": "Python_Tutorial_Part3.ipynb",
   "provenance": []
  },
  "kernelspec": {
   "display_name": "Python 3 (ipykernel)",
   "language": "python",
   "name": "python3"
  },
  "language_info": {
   "codemirror_mode": {
    "name": "ipython",
    "version": 3
   },
   "file_extension": ".py",
   "mimetype": "text/x-python",
   "name": "python",
   "nbconvert_exporter": "python",
   "pygments_lexer": "ipython3",
   "version": "3.9.12"
  }
 },
 "nbformat": 4,
 "nbformat_minor": 1
}
