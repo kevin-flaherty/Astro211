{
 "cells": [
  {
   "cell_type": "markdown",
   "id": "65fee2d0-fb72-4c22-bef1-b006fdeba361",
   "metadata": {},
   "source": [
    "## Introduction to Python\n",
    "\n",
    "It has been a couple of days since you completed the intro to python lab. Complete the exercise below, and try to do as much as you can *before* reviewing the lab."
   ]
  },
  {
   "cell_type": "markdown",
   "id": "248d38ae-c2a6-45ad-b351-335ce3f3037f",
   "metadata": {},
   "source": [
    ":::{exercise}\n",
    "\n",
    "What is printed out at the end of the following block of code?\n",
    "\n",
    "```{code-cell} python\n",
    "\n",
    "my_variable = 5\n",
    "my_variable = my_variable * 2\n",
    "my_variable = my_variable % 3\n",
    "print(my_variable)\n",
    "```\n",
    ":::\n",
    "\n"
   ]
  },
  {
   "cell_type": "markdown",
   "id": "cd1ac3cf-e315-4a06-b620-c0682717673b",
   "metadata": {},
   "source": [
    ":::{exercise}\n",
    "\n",
    "The following function contains errors. Fix them.\n",
    "\n",
    "```{code-cell} python\n",
    "\n",
    "def my_func(ages,*kwargs):\n",
    "    ''' Take an input list of ages, go through the list, and add any ages above 18 to the list adult_ages. All others are added to the list kid_ages. Print off both lists.\n",
    "    '''\n",
    "    for x in ages:\n",
    "        if x>18:\n",
    "            adult_ages.append(x\n",
    "        else:\n",
    "            kid_ages.add(x)\n",
    "     print('The ages of the adults: ',adult_ages)\n",
    "     print('The ages of the kids: , kid_ages)\n",
    "\n",
    ":::"
   ]
  },
  {
   "cell_type": "markdown",
   "id": "571a76e3-7346-4908-bbc1-78512204e5c0",
   "metadata": {},
   "source": [
    ":::{exercise}\n",
    "\n",
    "Describe in words what the following block of code does. What do you expect the output to look like?\n",
    "\n",
    "```{code-cell} python\n",
    "\n",
    "num_kids = {'Dave':2,'Kate':0,'Catherine':1,'Anne':2,'Graham':2,'Kevin':0,'Fred':0,'Tiku':2}\n",
    "kids_array = []\n",
    "for key in num_kids.keys:\n",
    "    kids_array.append(num_kids[key])\n",
    "\n",
    "plt.hist(kids_array,bins=3)\n",
    "plt.axvline(np.mean(kids_array)\n",
    "```\n",
    ":::"
   ]
  },
  {
   "cell_type": "code",
   "execution_count": null,
   "id": "19034eb3-57ac-4dc2-bfe9-6e6a1b3797f3",
   "metadata": {},
   "outputs": [],
   "source": []
  }
 ],
 "metadata": {
  "kernelspec": {
   "display_name": "Python 3 (ipykernel)",
   "language": "python",
   "name": "python3"
  },
  "language_info": {
   "codemirror_mode": {
    "name": "ipython",
    "version": 3
   },
   "file_extension": ".py",
   "mimetype": "text/x-python",
   "name": "python",
   "nbconvert_exporter": "python",
   "pygments_lexer": "ipython3",
   "version": "3.9.12"
  }
 },
 "nbformat": 4,
 "nbformat_minor": 5
}
