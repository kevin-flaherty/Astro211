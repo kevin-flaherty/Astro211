{
 "cells": [
  {
   "cell_type": "markdown",
   "id": "65fee2d0-fb72-4c22-bef1-b006fdeba361",
   "metadata": {},
   "source": [
    "## Introduction to Python - Follow Up\n",
    "\n",
    "**Before you do anything else, make a duplicate copy of this notebook, and update the name to include your name or initials. Make any requested edits to that copy.**\n",
    "\n",
    "### Names: [Insert your names here]\n",
    "\n",
    "Complete the activities below before the start of lab. Feel free to refer back to your python notebook from last week. \n",
    "\n",
    "The last lab introduced a lot of syntax and basic operations within python, but remember that our goal is not for you to memorize all of the syntax, but to get to the point where you think \"This looks familiar, and I remember how to look up the details about how this works.\" Our main goals are:\n",
    "- Be able to diagnose and fix bugs within a block of code.\n",
    "- Think programatically.\n",
    "- Be able to read code and understand what it is doing.\n",
    "- Be able to look up exact syntax, and use pre-written functions."
   ]
  },
  {
   "cell_type": "markdown",
   "id": "0f525eb3",
   "metadata": {},
   "source": [
    "## 1\n",
    "\n",
    "At the end of the previous lab you created a function that compared the scores of different students (I have copied the documentation for this code into the space below, as a reminder of what this function looks like).\n",
    "\n",
    "Suppose you wanted to use this function to see if a student has improved over a series of courses (e.g., has Tom done better in progressing from Physics 141 to Physics 142 to Physics 201?)\n",
    "\n",
    "Among the different programming elements you saw last time (e.g., for loops, if statements, lists, dictionaries, functions), which would you use, and how would you use them, along with your compare_students function, to solve this problem? What kind of inputs would you need? \n",
    "\n",
    "**Answer:**"
   ]
  },
  {
   "cell_type": "code",
   "execution_count": null,
   "id": "db822335",
   "metadata": {},
   "outputs": [],
   "source": [
    "def compare_students(student1,student2,*args):\n",
    "    '''\n",
    "    A function to produce a horizontal bar plot comparing the midterm scores of students\n",
    "    INPUTS:\n",
    "        student1 (string): the name of a student in the class_dictionary\n",
    "        student2 (string): the name of a student in the class_dictionary\n",
    "        *args (optional, string): any number of students from the class_dictionary\n",
    "    PRODUCES: \n",
    "        A bar plot \n",
    "    RETURNS: \n",
    "        NONE\n",
    "    '''\n",
    "    #Code goes here (not to spoil the above exercise!)\n",
    "    return"
   ]
  },
  {
   "cell_type": "markdown",
   "id": "248d38ae-c2a6-45ad-b351-335ce3f3037f",
   "metadata": {},
   "source": [
    "## 2\n",
    "\n",
    "What is printed out at the end of the following block of code?\n",
    "\n",
    "```python\n",
    "\n",
    "my_variable = 5\n",
    "my_variable = my_variable * 2\n",
    "my_variable = my_variable % 3\n",
    "print(my_variable)\n",
    "\n",
    "```\n",
    "\n",
    "\n"
   ]
  },
  {
   "cell_type": "markdown",
   "id": "9e9294cb",
   "metadata": {},
   "source": [
    "**Answer:**"
   ]
  },
  {
   "cell_type": "markdown",
   "id": "cd1ac3cf-e315-4a06-b620-c0682717673b",
   "metadata": {},
   "source": [
    "\n",
    "## 3\n",
    "\n",
    "The following function contains errors. Fix them.\n",
    "\n",
    "```python\n",
    "\n",
    "def my_func(ages,*kwargs):\n",
    "    ''' Take an input list of ages, go through the list, and add any ages above 18 to the list adult_ages. All others are added to the list kid_ages. Print off both lists.\n",
    "    '''\n",
    "    for x in ages:\n",
    "        if x>18:\n",
    "            adult_ages.append(x\n",
    "        else:\n",
    "            kid_ages.add(x)\n",
    "     print('The ages of the adults: ',adult_ages)\n",
    "     print('The ages of the kids: , kid_ages)\n",
    "\n",
    "```"
   ]
  },
  {
   "cell_type": "markdown",
   "id": "571a76e3-7346-4908-bbc1-78512204e5c0",
   "metadata": {},
   "source": [
    "## 4\n",
    "\n",
    "Without actually running it, describe in words what the following block of code does. What do you expect the output to look like?\n",
    "\n",
    "```python\n",
    "\n",
    "num_kids = {'Dave':2,'Kate':0,'Catherine':1,'Anne':2,'Graham':2,'Kevin':0,'Fred':0,'Tiku':2}\n",
    "kids_array = []\n",
    "for key in num_kids.keys:\n",
    "    kids_array.append(num_kids[key])\n",
    "\n",
    "plt.hist(kids_array,bins=3)\n",
    "plt.axvline(np.mean(kids_array)\n",
    "```"
   ]
  },
  {
   "cell_type": "markdown",
   "id": "3c46ba3d",
   "metadata": {},
   "source": [
    "**Answer:**"
   ]
  },
  {
   "cell_type": "markdown",
   "id": "3d60ddf9",
   "metadata": {},
   "source": [
    "When you are done either email this notebook to Dr. Flaherty (kmf4@williams.edu), or put a copy of it in the folder on the astro server labeled Put_FollowUps_Here."
   ]
  },
  {
   "cell_type": "markdown",
   "id": "c46c3c52",
   "metadata": {},
   "source": []
  }
 ],
 "metadata": {
  "kernelspec": {
   "display_name": "base",
   "language": "python",
   "name": "python3"
  },
  "language_info": {
   "codemirror_mode": {
    "name": "ipython",
    "version": 3
   },
   "file_extension": ".py",
   "mimetype": "text/x-python",
   "name": "python",
   "nbconvert_exporter": "python",
   "pygments_lexer": "ipython3",
   "version": "3.9.12"
  }
 },
 "nbformat": 4,
 "nbformat_minor": 5
}
