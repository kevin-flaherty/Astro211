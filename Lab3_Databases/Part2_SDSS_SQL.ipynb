{
 "cells": [
  {
   "cell_type": "markdown",
   "metadata": {
    "id": "AXrlBXt03FKg"
   },
   "source": [
    "# SDSS SQL Tutorial\n",
    "---\n",
    "\n",
    "### Names: [Insert names here]\n",
    "\n",
    "**Before you do anything else, go to *File -> Save As* and change the filename to include your name or initials. Make any requested edits to that copy.**\n",
    "\n",
    "**New Code**\n",
    "\n",
    "* Simple SQL query.\n",
    "* Select objects\n",
    "  * within a given range of RA and Dec.\n",
    "  * based on object classification.\n",
    "  * based on redshift.\n",
    "  * based on numerical constraints (e.g., the color is above a certain value)\n",
    "* Extract\n",
    "  * RA, Dec\n",
    "  * Magnitude at different bands\n",
    "  * redshift\n",
    "  * Object ID\n",
    "* Return a sorted list of object. \n",
    "* Join tables. \n",
    "* Access the data returned by an SQL query within python.\n",
    "\n",
    "\n",
    "In the first part of this lab, you were (briefly) introduced to the world of online astronomical databases, and shown how to perform simple searches. The funcionality of these databases extends well beyond what you saw in the previous lab. One of the powerful features of these databases is the ability to select out data that fit a certain set of criteria (beyond simply a location on the sky). This can include e.g., selecting all of the bright, well-resolved, nearby galaxies, in order to make your own Hubble classification diagram. Or selecting out all of the stars within a cluster (based on RA, Dec, and distance) in order to create an HR diagram of the cluster, and hence measure its age.\n",
    "\n",
    "These complex queries are not possible with the simply query tools introduced earlier. To perform these tasks you need to learn about the Structured Query Language (SQL) a programming language for performing queries. To learn SQL, you will work through the SDSS SQL tutorial:\n",
    "([http://skyserver.sdss.org/dr14/en/help/howto/search/searchhowtohome.aspx](http://skyserver.sdss.org/dr14/en/help/howto/search/searchhowtohome.aspx)). \n",
    "\n",
    "The tutorial can be completed entirely in the pages linked above, but SQL queries can also be completed within python. This notebook demonstrates how to call SQL queries within python. As you work through the online activity, record and execute your answers in the notebook below. \n",
    "\n",
    "It can help to place the commands into the SDSS pages, and then copy them here once you have them correct. This is because the SDSS pages return more helpful error messages than python. "
   ]
  },
  {
   "cell_type": "markdown",
   "metadata": {
    "id": "l4s8MvW943ZG"
   },
   "source": [
    "### SQL Queries in Python\n",
    "\n",
    "The next two cells install and load in the necessary packages."
   ]
  },
  {
   "cell_type": "code",
   "execution_count": null,
   "metadata": {
    "id": "0puC6RG16Fez"
   },
   "outputs": [],
   "source": [
    "!pip install git+http://github.com/astropy/astroquery.git#egg=astroquery"
   ]
  },
  {
   "cell_type": "code",
   "execution_count": null,
   "metadata": {
    "colab": {
     "base_uri": "https://localhost:8080/"
    },
    "executionInfo": {
     "elapsed": 2119,
     "status": "error",
     "timestamp": 1645645013163,
     "user": {
      "displayName": "Berit Olsson",
      "photoUrl": "https://lh3.googleusercontent.com/a/default-user=s64",
      "userId": "06045986201535555646"
     },
     "user_tz": 300
    },
    "id": "6af1mweS3BCH",
    "outputId": "6557fa93-7536-4f07-bbfa-f783718c1aa4"
   },
   "outputs": [],
   "source": [
    "# First, suppress some warnings and import useful packages\n",
    "import warnings\n",
    "warnings.filterwarnings('ignore',module='astropy.io.votables.tree')\n",
    "warnings.filterwarnings('ignore',message='.*unclosed..socket')\n",
    "\n",
    "import astropy.units as u\n",
    "from astropy.coordinates import SkyCoord, ICRS\n",
    "from astroquery.sdss import SDSS #package that allows queries of the SDSS database\n"
   ]
  },
  {
   "cell_type": "markdown",
   "metadata": {
    "id": "-Q0dProj6z37"
   },
   "source": [
    "The SQL query is recorded in a string variable, and then this string is sent to SDSS using the `query_sql` function."
   ]
  },
  {
   "cell_type": "code",
   "execution_count": null,
   "metadata": {
    "id": "9uV6gEJT5qMD"
   },
   "outputs": [],
   "source": [
    "# First Query\n",
    "\n",
    "# input the query as a string, and then submit the streing to SDSS\n",
    "query_string = '''select ra,dec\n",
    "from specObj\n",
    "where ra BETWEEN 140 and 141 AND\n",
    "dec BETWEEN 20 and 21'''\n",
    "\n",
    "data = SDSS.query_sql(query_string,verbose=False)\n",
    "\n",
    "# We can now print the results\n",
    "print(data)"
   ]
  },
  {
   "cell_type": "markdown",
   "metadata": {
    "id": "1D4Va9i67R5c"
   },
   "source": [
    "The result is an astropy Tables object [(http://docs.astropy.org/en/stable/api/astropy.table.Table.html#astropy.table.Table)](http://docs.astropy.org/en/stable/api/astropy.table.Table.html#astropy.table.Table), which is similar to a dictionary."
   ]
  },
  {
   "cell_type": "code",
   "execution_count": null,
   "metadata": {
    "id": "TXdWA2gR7UgG"
   },
   "outputs": [],
   "source": [
    "# The column names\n",
    "print(data.keys())\n",
    "\n",
    "# Access individual columns\n",
    "print(data['ra'][:5])"
   ]
  },
  {
   "cell_type": "markdown",
   "metadata": {
    "id": "OTmagJh87coj"
   },
   "source": [
    "From here you can complete the rest of the tutorial, recording your answers in the cells below. The examples have also been copied here for your records. The tutorial covers a lot of material related to SQL, but we will only cover the beginning of the tutorial.\n",
    "\n",
    "\n",
    "> **Practice 1:** What objects has the SDSS seen in a smaller area of the sky near ra = 140.5, dec = 20.5 (the same area you searched in the previous query)?\n",
    ">\n",
    "> Modify the previous query so it will return ra and dec of objects where the ra is between 140.25 and 140.75 and dec is between 20.25 and 20.75. How many objects did the query return?"
   ]
  },
  {
   "cell_type": "code",
   "execution_count": null,
   "metadata": {
    "id": "apbv6EvDGcWm"
   },
   "outputs": [],
   "source": [
    "# Practice 1\n",
    "query_string = '''\n",
    "\n",
    "'''\n",
    "\n",
    "data = SDSS.query_sql(query_string,verbose=False)\n",
    "print(data)"
   ]
  },
  {
   "cell_type": "markdown",
   "metadata": {
    "id": "B_V0FLu6Gn6E"
   },
   "source": [
    "> **Practice 2:** Which of the objects you found in Practice 1 are galaxies? Modify your query so that it returns the ra, dec, and the best object ID for galaxies (and only galaxies) whose ra is between 194.25 and 194.75 and whose dec is between 2.25 and 2.75."
   ]
  },
  {
   "cell_type": "code",
   "execution_count": null,
   "metadata": {
    "id": "JSqpEpUoG1Jf"
   },
   "outputs": [],
   "source": [
    "# Practice 2\n",
    "query_string = '''\n",
    "\n",
    "'''\n",
    "\n",
    "data = SDSS.query_sql(query_string,verbose=False)\n",
    "print(data)"
   ]
  },
  {
   "cell_type": "code",
   "execution_count": null,
   "metadata": {
    "id": "OhC70oa6HQn7"
   },
   "outputs": [],
   "source": [
    "# Sample Query: Logical Operators\n",
    "query_string = '''select top 10\n",
    "    z, ra, dec, bestObjID\n",
    "from\n",
    "    specObj\n",
    "where\n",
    "    class = 'galaxy'\n",
    "    and z > 0.3\n",
    "    and zWarning = 0\n",
    "'''\n",
    "\n",
    "data = SDSS.query_sql(query_string,verbose=False)\n",
    "print(data)"
   ]
  },
  {
   "cell_type": "code",
   "execution_count": null,
   "metadata": {
    "id": "OegPzvbYHj4q"
   },
   "outputs": [],
   "source": [
    "# Sample Query: Logical Operators\n",
    "query_string = '''select top 10\n",
    "    z, ra, dec, bestObjID\n",
    "from \n",
    "    specObj\n",
    "where\n",
    "    (class = 'galaxy' or class = 'qso')\n",
    "    and z > 0.3\n",
    "    and zWarning = 0\n",
    "'''\n",
    "\n",
    "data = SDSS.query_sql(query_string,verbose=False)\n",
    "print(data)"
   ]
  },
  {
   "cell_type": "code",
   "execution_count": null,
   "metadata": {
    "id": "y9DIY_3PH3mW"
   },
   "outputs": [],
   "source": [
    "# Sample Query: Logical Operators\n",
    "query_string = '''select top 10\n",
    "    ra, dec, modelMag_u, modelMag_g, modelMag_r, modelMag_i, modelMag_z, objID\n",
    "from \n",
    "    photoObj\n",
    "where\n",
    "    type = 6\n",
    "    and modelMag_u - modelMag_g < 0.5\n",
    "'''\n",
    "\n",
    "data = SDSS.query_sql(query_string,verbose=False)\n",
    "print(data)"
   ]
  },
  {
   "cell_type": "markdown",
   "metadata": {
    "id": "0w0IFiRPIgYl"
   },
   "source": [
    "\n",
    "> **Practice 3:** What are the reddest galaxies in the area of the sky near ra=141?\n",
    ">\n",
    "> Write a query to search for galaxies between ra = 140.9 and ra = 141.1 brighter than g=18.0 for which u-g>2.2. Retrieve the Object ID, ra, dec, and the five final magnitudes."
   ]
  },
  {
   "cell_type": "code",
   "execution_count": null,
   "metadata": {
    "id": "IiHvAl1WI1pA"
   },
   "outputs": [],
   "source": [
    "# Practice 3\n",
    "query_string = '''\n",
    "\n",
    "'''\n",
    "\n",
    "data = SDSS.query_sql(query_string,verbose=False)\n",
    "print(data)"
   ]
  },
  {
   "cell_type": "markdown",
   "metadata": {
    "id": "jA_WcaVjJEyT"
   },
   "source": [
    "> **Practice 4:** What are the highest-redshift quasars in the SDSS database?\n",
    ">\n",
    "> Write a query to search for quasars for which we have obtained spectra (search the specObj table) with redshifts greater than 4.5 and good measurements (zWarning=0). Retrieve each quasar's Photo ID, ra, dec, and redshift.\n",
    "\n",
    "[Note: Redshift, indicated by the symbol $z$, refers to the doppler shift of distant objects. Due to the expansion of the universe, nearly all galaxies and distant objects appear to be moving away from us, causing their light to be redshifted, with larger redshifts corresponding to larger distances.]"
   ]
  },
  {
   "cell_type": "code",
   "execution_count": null,
   "metadata": {
    "id": "vzfyVSJoJWc1"
   },
   "outputs": [],
   "source": [
    "# Practice 4\n",
    "query_string = '''\n",
    "\n",
    "'''\n",
    "\n",
    "data = SDSS.query_sql(query_string,verbose=False)\n",
    "print(data)"
   ]
  },
  {
   "cell_type": "code",
   "execution_count": null,
   "metadata": {
    "id": "VUC0mgmBJeZf"
   },
   "outputs": [],
   "source": [
    "# Sample Query: Joining\n",
    "query_string = '''select top 100\n",
    "    x.plate, x.mjd,\n",
    "    s.fiberID,\n",
    "    p.modelMag_u, p.modelMag_g, p.ModelMag_r, p.ModelMag_i, p.ModelMag_z,\n",
    "    p.ra, p.dec,\n",
    "    s.z, p.ObjID\n",
    "from photoObj p\n",
    "join specObJ s on s.bestobjid = p.objid\n",
    "join plateX x on x.plateID = s.plateID\n",
    "where\n",
    "    s.class = 'qso'\n",
    "    and s.zwarning = 0\n",
    "    and s.z between 0.3 and 0.4\n",
    "'''\n",
    "\n",
    "data = SDSS.query_sql(query_string,verbose=False)\n",
    "print(data)"
   ]
  },
  {
   "cell_type": "markdown",
   "metadata": {
    "id": "JZp-PEoVKjlh"
   },
   "source": [
    "> **Practice 5:** How can you look up image data, plates, and spectra of moderately bright galaxies?\n",
    ">\n",
    "> Write a query to find 100 galaxies for which we have spectra that have g magnitude between 17 and 17.4 and redshift less than 0.05. For each galaxy retrieve the object ID, the five magnitudes, the redshift, the plate/MJD number, and the fiber number."
   ]
  },
  {
   "cell_type": "code",
   "execution_count": null,
   "metadata": {
    "id": "qCcwesZ6K3R-"
   },
   "outputs": [],
   "source": [
    "# Practice 5\n",
    "query_string = '''\n",
    "\n",
    "'''\n",
    "\n",
    "data = SDSS.query_sql(query_string,verbose=False)\n",
    "print(data)"
   ]
  },
  {
   "cell_type": "markdown",
   "metadata": {},
   "source": [
    "### Putting it all together\n",
    "\n",
    "We have seen how to collect information from different databases. Now lets put it together.\n",
    "\n",
    "> **Q:** Lets examine the Virgo galaxy cluster, by estimating its total mass based on its velocity dispersion, and looking at the colors of the galaxies. To calculate the mass use the virial theorem, $M=2Rv^2/G$, where $R$ is the radius of the cluster (assume $R$=7.5 million light years), $G$ is the gravitational constant, and $v$ is the standard deviation of the velocities, which you can derive from the standard deviation of the redshifts $z$ ($z=vc$, where $c$ is the speed of light). Also, make a plot of g-i vs i for the galaxies within the Virgo cluster to show how galaxy color changes with brightness.\n",
    "Query the SDSS database for all galaxies within 5 degrees of the center of the Virgo cluster, with a redshift within 50% of the average value for the Virgo cluster. You will need to look up the position of the Virgo cluster and its average redshift, from the SDSS database extract values you need to calculate the cluster mass and make the color-magnitude diagram. \n",
    "\n",
    "In cgs units, 1 light year = 9.5x10<sup>17</sup>cm, G = 6.67x10<sup>-8</sup> cm<sup>3</sup>/g/s<sup>2</sup>, c=2.99x10<sup>10</sup>cm/s, and the mass of the Sun is 1.99x10<sup>33</sup> g."
   ]
  },
  {
   "cell_type": "code",
   "execution_count": null,
   "metadata": {},
   "outputs": [],
   "source": [
    "query_string ='''\n",
    "\n",
    "'''\n",
    "data = SDSS.query_sql(query_string,verbose=False)\n",
    "print(data)"
   ]
  },
  {
   "cell_type": "code",
   "execution_count": null,
   "metadata": {},
   "outputs": [],
   "source": [
    "### Calculate the mass of the cluster here."
   ]
  },
  {
   "cell_type": "code",
   "execution_count": null,
   "metadata": {},
   "outputs": [],
   "source": [
    "### Plot g-i vs i here."
   ]
  },
  {
   "cell_type": "markdown",
   "metadata": {},
   "source": [
    "#### To turn in this lab, either email me (kmf4) a copy of this notebook, or place your copy in Shared/Astro211_F25/Lab1 folder in the Astro server."
   ]
  },
  {
   "cell_type": "markdown",
   "metadata": {
    "id": "Qr4yCla_OYGv"
   },
   "source": [
    "SQL is a common language for querying all kinds of databases (e.g., the office of campus relations uses SQL when querying the Williams alumni database). The International Virtual Observatory Association supports use of the Astronomy Database Query Language (ADQL), and is used by e.g. GAIA [https://www.gaia.ac.uk/data/gaia-data-release-1/adql-cookbook](https://www.gaia.ac.uk/data/gaia-data-release-1/adql-cookbook). Sincd ADQL is built on from SQL, much of the syntax is the same. "
   ]
  }
 ],
 "metadata": {
  "colab": {
   "collapsed_sections": [],
   "name": "Part2_SDSS_SQL.ipynb",
   "provenance": []
  },
  "kernelspec": {
   "display_name": "Python 3 (ipykernel)",
   "language": "python",
   "name": "python3"
  },
  "language_info": {
   "codemirror_mode": {
    "name": "ipython",
    "version": 3
   },
   "file_extension": ".py",
   "mimetype": "text/x-python",
   "name": "python",
   "nbconvert_exporter": "python",
   "pygments_lexer": "ipython3",
   "version": "3.9.12"
  }
 },
 "nbformat": 4,
 "nbformat_minor": 1
}
