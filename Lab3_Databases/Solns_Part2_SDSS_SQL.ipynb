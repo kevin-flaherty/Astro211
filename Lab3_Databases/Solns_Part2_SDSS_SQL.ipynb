{
 "cells": [
  {
   "cell_type": "markdown",
   "metadata": {
    "id": "AXrlBXt03FKg"
   },
   "source": [
    "# SDSS SQL Tutorial\n",
    "---\n",
    "\n",
    "### Names: [Insert names here]\n",
    "\n",
    "**Before you do anything else, go to File -> Save a Copy in Drive. Make any requested edits to that copy.**\n",
    "\n",
    "**New Code**\n",
    "\n",
    "* Simple SQL query.\n",
    "* Select objects\n",
    "  * within a given range of RA and Dec.\n",
    "  * based on object classification.\n",
    "  * based on redshift.\n",
    "  * based on numerical constraints (e.g., the color is above a certain value)\n",
    "* Extract\n",
    "  * RA, Dec\n",
    "  * Magnitude at different bands\n",
    "  * redshift\n",
    "  * Object ID\n",
    "* Return a sorted list of object. \n",
    "* Join tables. \n",
    "* Access the data returned by an SQL query within python.\n",
    "\n",
    "\n",
    "In the first part of this lab, you were (briefly) introduced to the world of online astronomical databases, and shown how to perform simple searches. The funcionality of these databases extends well beyond what you saw in the previous lab. One of the powerful features of these databases is the ability to select out data that fit a certain set of criteria (beyond simply a location on the sky). This can include e.g., selecting all of the bright, well-resolved, nearby galaxies, in order to make your own Hubble classification diagram. Or selecting out all of the stars within a cluster (based on RA, Dec, and distance) in order to create an HR diagram of the cluster, and hence measure its age.\n",
    "\n",
    "These complex queries are possible, although not with the simple query tools introduced earlier. To perform these tasks you need to learn about the Structured Query Language (SQL) a programming language for performing queries. To learn SQL, you will work through the SDSS SQL tutorial:\n",
    "([http://skyserver.sdss.org/dr14/en/help/howto/search/searchhowtohome.aspx](http://skyserver.sdss.org/dr14/en/help/howto/search/searchhowtohome.aspx)). \n",
    "\n",
    "The tutorial can be completed entirely online, but SQL queries can also be completed within python. This notebook demonstrates how to call SQL queries within python. As you work through the online, record and execute your answers in the notebook below. "
   ]
  },
  {
   "cell_type": "markdown",
   "metadata": {
    "id": "l4s8MvW943ZG"
   },
   "source": [
    "### SQL Queries in Python\n",
    "\n",
    "The next two cells show how to execute the initial SQL query in the tutorial"
   ]
  },
  {
   "cell_type": "code",
   "execution_count": 1,
   "metadata": {
    "colab": {
     "base_uri": "https://localhost:8080/"
    },
    "executionInfo": {
     "elapsed": 36234,
     "status": "ok",
     "timestamp": 1644351697980,
     "user": {
      "displayName": "Kevin Flaherty",
      "photoUrl": "https://lh3.googleusercontent.com/a/default-user=s64",
      "userId": "15812311172606787912"
     },
     "user_tz": 300
    },
    "id": "0puC6RG16Fez",
    "outputId": "f641a455-16f7-4470-9ee8-6847615fc7e9"
   },
   "outputs": [
    {
     "name": "stdout",
     "output_type": "stream",
     "text": [
      "Collecting astroquery\n",
      "  Cloning http://github.com/astropy/astroquery.git to /private/var/folders/n3/_s65fc7n5jd4gll4g_xrvwzc0000gq/T/pip-install-nxm7ihjt/astroquery_f0bf713af216405abb736e2b852bea35\n",
      "  Running command git clone -q http://github.com/astropy/astroquery.git /private/var/folders/n3/_s65fc7n5jd4gll4g_xrvwzc0000gq/T/pip-install-nxm7ihjt/astroquery_f0bf713af216405abb736e2b852bea35\n",
      "  xcrun: error: invalid active developer path (/Library/Developer/CommandLineTools), missing xcrun at: /Library/Developer/CommandLineTools/usr/bin/xcrun\n",
      "\u001b[33mWARNING: Discarding git+http://github.com/astropy/astroquery.git#egg=astroquery. Command errored out with exit status 1: git clone -q http://github.com/astropy/astroquery.git /private/var/folders/n3/_s65fc7n5jd4gll4g_xrvwzc0000gq/T/pip-install-nxm7ihjt/astroquery_f0bf713af216405abb736e2b852bea35 Check the logs for full command output.\u001b[0m\n",
      "\u001b[31mERROR: Could not find a version that satisfies the requirement astroquery (unavailable) (from versions: 0.0.dev1184, 0.0.dev1194, 0.1, 0.2, 0.2.1, 0.2.2, 0.2.3, 0.2.4, 0.2.5, 0.2.6, 0.3.dev2794, 0.3.0, 0.3.1, 0.3.2.dev3305, 0.3.2, 0.3.3, 0.3.4, 0.3.5, 0.3.6, 0.3.6.post2, 0.3.7, 0.3.8, 0.3.9.dev343, 0.3.9.dev390, 0.3.9.dev392, 0.3.9.dev395, 0.3.9.dev411, 0.3.9.dev413, 0.3.9.dev434, 0.3.9.dev436, 0.3.9.dev437, 0.3.9.dev438, 0.3.9.dev450, 0.3.9.dev451, 0.3.9.dev453, 0.3.9.dev471, 0.3.9.dev476, 0.3.9.dev480, 0.3.9.dev502, 0.3.9.dev520, 0.3.9.dev526, 0.3.9.dev527, 0.3.9.dev528, 0.3.9.dev530, 0.3.9.dev536, 0.3.9.dev540, 0.3.9.dev547, 0.3.9.dev553, 0.3.9.dev569, 0.3.9.dev574, 0.3.9.dev578, 0.3.9.dev582, 0.3.9.dev5086, 0.3.9.dev5096, 0.3.9.dev5121, 0.3.9.dev5126, 0.3.9.dev5129, 0.3.9, 0.3.10.dev5131, 0.3.10.dev5140, 0.3.10.dev5144, 0.3.10.dev5151, 0.3.10.dev5174, 0.3.10.dev5181, 0.3.10.dev5184, 0.3.10.dev5186, 0.3.10.dev5207, 0.3.10.dev5214, 0.3.10.dev5230, 0.3.10.dev5243, 0.3.10.dev5266, 0.3.10.dev5274, 0.3.10.dev5276, 0.3.10.dev5284, 0.3.10.dev5286, 0.3.10.dev5302, 0.3.10.dev5309, 0.3.10.dev5314, 0.3.10.dev5328, 0.3.10.dev5334, 0.3.10.dev5342, 0.3.10.dev5435, 0.3.10.dev5454, 0.3.10.dev5462, 0.3.10.dev5470, 0.3.10.dev5473, 0.3.10.dev5480, 0.3.10.dev5486, 0.3.10.dev5489, 0.3.10.dev5506, 0.3.10.dev5512, 0.3.10.dev5703, 0.3.10.dev5705, 0.3.10.dev5709, 0.3.10, 0.4.dev5744, 0.4.dev5750, 0.4, 0.4.1.dev5892, 0.4.1.dev5900, 0.4.1.dev5934, 0.4.1.dev5943, 0.4.1.dev5959, 0.4.1.dev6006, 0.4.1.dev6017, 0.4.1.dev6032, 0.4.1.dev6035, 0.4.1.dev6038, 0.4.1.dev6114, 0.4.1.dev6116, 0.4.1.dev6118, 0.4.1.dev6120, 0.4.1.dev6124, 0.4.1.dev6127, 0.4.1.dev6136, 0.4.1.dev6141, 0.4.1.dev6145, 0.4.1.dev6150, 0.4.1.dev6152, 0.4.1.dev6156, 0.4.1.dev6164, 0.4.1.dev6171, 0.4.1, 0.4.2.dev6193, 0.4.2.dev6213, 0.4.2.dev6215, 0.4.2.dev6218, 0.4.2.dev6256, 0.4.2.dev6269, 0.4.2.dev6271, 0.4.2.dev6274, 0.4.2.dev6278, 0.4.2.dev6280, 0.4.2.dev6287, 0.4.2.dev6294, 0.4.2.dev6304, 0.4.2.dev6306, 0.4.2.dev6310, 0.4.2.dev6320, 0.4.2.dev6360, 0.4.2.dev6366, 0.4.2.dev6371, 0.4.2.dev6373, 0.4.2.dev6375, 0.4.2.dev6377, 0.4.2.dev6378, 0.4.2.dev6380, 0.4.2.dev6410, 0.4.2.dev6425, 0.4.2.dev6430, 0.4.2.dev6444, 0.4.2.dev6449, 0.4.2, 0.4.3, 0.4.4.dev6955, 0.4.4.dev7007, 0.4.4, 0.4.5.dev7147, 0.4.5, 0.4.6.dev7504, 0.4.6.dev7540, 0.4.6, 0.4.7.dev7761, 0.4.7.dev7946, 0.4.7.dev8038, 0.4.7.dev8076, 0.4.7.dev8479, 0.4.7.dev8702, 0.4.7.dev8728, 0.4.7.dev8736, 0.4.7.dev8738, 0.4.7.dev8893, 0.4.7.dev8930, 0.4.7.dev8948, 0.4.7.dev9008)\u001b[0m\n",
      "\u001b[31mERROR: No matching distribution found for astroquery (unavailable)\u001b[0m\n"
     ]
    }
   ],
   "source": [
    "!pip install git+http://github.com/astropy/astroquery.git#egg=astroquery"
   ]
  },
  {
   "cell_type": "code",
   "execution_count": 2,
   "metadata": {
    "executionInfo": {
     "elapsed": 1243,
     "status": "ok",
     "timestamp": 1644352160421,
     "user": {
      "displayName": "Kevin Flaherty",
      "photoUrl": "https://lh3.googleusercontent.com/a/default-user=s64",
      "userId": "15812311172606787912"
     },
     "user_tz": 300
    },
    "id": "6af1mweS3BCH"
   },
   "outputs": [],
   "source": [
    "# First, suppress some warnings and import useful packages\n",
    "import warnings\n",
    "warnings.filterwarnings('ignore',module='astropy.io.votables.tree')\n",
    "warnings.filterwarnings('ignore',message='.*unclosed..socket')\n",
    "\n",
    "import astropy.units as u\n",
    "from astropy.coordinates import SkyCoord, ICRS\n",
    "from astroquery.sdss import SDSS #package that allows queries of the SDSS database\n"
   ]
  },
  {
   "cell_type": "markdown",
   "metadata": {
    "id": "-Q0dProj6z37"
   },
   "source": [
    "Basically, the SQL query is recorded in a string variable, and then this string is sent to SDSS using the `query_sql` function."
   ]
  },
  {
   "cell_type": "code",
   "execution_count": 3,
   "metadata": {
    "colab": {
     "base_uri": "https://localhost:8080/"
    },
    "executionInfo": {
     "elapsed": 1460,
     "status": "ok",
     "timestamp": 1644352189998,
     "user": {
      "displayName": "Kevin Flaherty",
      "photoUrl": "https://lh3.googleusercontent.com/a/default-user=s64",
      "userId": "15812311172606787912"
     },
     "user_tz": 300
    },
    "id": "9uV6gEJT5qMD",
    "outputId": "a804018d-b52d-4791-9a06-b8d6c4edb893"
   },
   "outputs": [
    {
     "name": "stdout",
     "output_type": "stream",
     "text": [
      "    ra       dec   \n",
      "--------- ---------\n",
      "140.00334 20.774178\n",
      "140.00636 20.924277\n",
      "140.01069 20.078161\n",
      "140.01226 20.538016\n",
      "140.01318 20.605621\n",
      "140.01467 20.499697\n",
      "140.01628 20.849852\n",
      "      ...       ...\n",
      "140.97225 20.121144\n",
      " 140.9787 20.759427\n",
      "140.97915 20.029572\n",
      "140.98147 20.817946\n",
      "140.99308 20.027302\n",
      "140.99353 20.578518\n",
      "140.99392 20.423977\n",
      "Length = 328 rows\n"
     ]
    }
   ],
   "source": [
    "# First Query\n",
    "\n",
    "# input the query as a string, and then submit the streing to SDSS\n",
    "query_string = '''select ra,dec\n",
    "from specObj\n",
    "where ra BETWEEN 140 and 141 AND\n",
    "dec BETWEEN 20 and 21'''\n",
    "\n",
    "data = SDSS.query_sql(query_string,verbose=False)\n",
    "\n",
    "# We can now print the results\n",
    "print(data)"
   ]
  },
  {
   "cell_type": "markdown",
   "metadata": {
    "id": "1D4Va9i67R5c"
   },
   "source": [
    "The result is an astropy Tables object [(http://docs.astropy.org/en/stable/api/astropy.table.Table.html#astropy.table.Table)](http://docs.astropy.org/en/stable/api/astropy.table.Table.html#astropy.table.Table), which is similar to a dictionary."
   ]
  },
  {
   "cell_type": "code",
   "execution_count": 4,
   "metadata": {
    "colab": {
     "base_uri": "https://localhost:8080/"
    },
    "executionInfo": {
     "elapsed": 279,
     "status": "ok",
     "timestamp": 1644352196414,
     "user": {
      "displayName": "Kevin Flaherty",
      "photoUrl": "https://lh3.googleusercontent.com/a/default-user=s64",
      "userId": "15812311172606787912"
     },
     "user_tz": 300
    },
    "id": "TXdWA2gR7UgG",
    "outputId": "d99dbd83-e14f-4902-8aaa-04818a3d37d9"
   },
   "outputs": [
    {
     "name": "stdout",
     "output_type": "stream",
     "text": [
      "['ra', 'dec']\n",
      "    ra   \n",
      "---------\n",
      "140.00334\n",
      "140.00636\n",
      "140.01069\n",
      "140.01226\n",
      "140.01318\n"
     ]
    }
   ],
   "source": [
    "# The column names\n",
    "print(data.keys())\n",
    "\n",
    "# Access individual columns\n",
    "print(data['ra'][:5])"
   ]
  },
  {
   "cell_type": "markdown",
   "metadata": {
    "id": "OTmagJh87coj"
   },
   "source": [
    "From here you can complete the rest of the tutorial, recording your answers in the cells below. The examples have also been copied here for your records. While tutorial covers a lot of material related to SQL, you only need to go as far as you can before the lab ends (you can save the rest for another time).\n",
    "\n",
    "**Do I really want them to go as far as they can? Instead do I want them to reach a certain point??**\n",
    "\n",
    "> **Practice 1:** What objects has the SDSS seen in a smaller area of the sky near ra = 140.5, dec = 20.5 (the same area you searched in the previous query)?\n",
    ">\n",
    "> Modify the previous query so it will return ra and dec of objects where the ra is between 140.25 and 140.75 and dec is between 20.25 and 20.75. How many objects did the query return?"
   ]
  },
  {
   "cell_type": "code",
   "execution_count": 5,
   "metadata": {
    "colab": {
     "base_uri": "https://localhost:8080/"
    },
    "executionInfo": {
     "elapsed": 2179,
     "status": "ok",
     "timestamp": 1644352406977,
     "user": {
      "displayName": "Kevin Flaherty",
      "photoUrl": "https://lh3.googleusercontent.com/a/default-user=s64",
      "userId": "15812311172606787912"
     },
     "user_tz": 300
    },
    "id": "apbv6EvDGcWm",
    "outputId": "dc183a8a-a8a5-4866-db2b-b073e4fd8b5c"
   },
   "outputs": [
    {
     "name": "stdout",
     "output_type": "stream",
     "text": [
      "    ra       dec   \n",
      "--------- ---------\n",
      "140.25263 20.610694\n",
      "140.26132  20.37615\n",
      "140.26652  20.27486\n",
      "140.26679 20.410276\n",
      "140.26998 20.665789\n",
      "140.29008 20.268252\n",
      "140.29458 20.557766\n",
      "      ...       ...\n",
      "140.72894 20.652857\n",
      " 140.7291 20.400367\n",
      "140.73026 20.441962\n",
      "140.74094 20.320367\n",
      "140.74187  20.34313\n",
      "140.74276 20.596196\n",
      "140.74828 20.343699\n",
      "Length = 89 rows\n"
     ]
    }
   ],
   "source": [
    "# Practice 1\n",
    "query_string = '''select ra,dec\n",
    "from specObj\n",
    "where ra between 140.25 and 140.75 \n",
    "and dec between 20.25 and 20.75\n",
    "\n",
    "'''\n",
    "\n",
    "data = SDSS.query_sql(query_string,verbose=False)\n",
    "print(data)"
   ]
  },
  {
   "cell_type": "markdown",
   "metadata": {
    "id": "B_V0FLu6Gn6E"
   },
   "source": [
    "> **Practice 2:** Which of the objects you found in Practice 1 are galaxies? Modify your query so that it returns the ra, dec, and the best object ID for galaxies (and only galaxies) whose ra is between 194.25 and 194.75 and whose dec is between 2.25 and 2.75."
   ]
  },
  {
   "cell_type": "code",
   "execution_count": 6,
   "metadata": {
    "colab": {
     "base_uri": "https://localhost:8080/"
    },
    "executionInfo": {
     "elapsed": 1670,
     "status": "ok",
     "timestamp": 1644352508771,
     "user": {
      "displayName": "Kevin Flaherty",
      "photoUrl": "https://lh3.googleusercontent.com/a/default-user=s64",
      "userId": "15812311172606787912"
     },
     "user_tz": 300
    },
    "id": "JSqpEpUoG1Jf",
    "outputId": "7bb42bb9-605b-4adc-db9c-2739381cb097"
   },
   "outputs": [
    {
     "name": "stdout",
     "output_type": "stream",
     "text": [
      "    ra       dec   \n",
      "--------- ---------\n",
      "140.26652  20.27486\n",
      "140.26679 20.410276\n",
      "140.26998 20.665789\n",
      "140.30213 20.516802\n",
      "140.31007 20.374799\n",
      "140.32603 20.627772\n",
      "140.35157 20.735508\n",
      "      ...       ...\n",
      "140.72577 20.342547\n",
      "140.72754 20.583188\n",
      " 140.7291 20.400367\n",
      "140.73026 20.441962\n",
      "140.74094 20.320367\n",
      "140.74187  20.34313\n",
      "140.74828 20.343699\n",
      "Length = 40 rows\n"
     ]
    }
   ],
   "source": [
    "# Practice 2\n",
    "query_string = '''select ra,dec\n",
    "from specObj\n",
    "where ra between 140.25 and 140.75 \n",
    "and dec between 20.25 and 20.75\n",
    "and class = \"galaxy\"\n",
    "\n",
    "'''\n",
    "\n",
    "data = SDSS.query_sql(query_string,verbose=False)\n",
    "print(data)"
   ]
  },
  {
   "cell_type": "code",
   "execution_count": 7,
   "metadata": {
    "colab": {
     "base_uri": "https://localhost:8080/"
    },
    "executionInfo": {
     "elapsed": 329,
     "status": "ok",
     "timestamp": 1644352515511,
     "user": {
      "displayName": "Kevin Flaherty",
      "photoUrl": "https://lh3.googleusercontent.com/a/default-user=s64",
      "userId": "15812311172606787912"
     },
     "user_tz": 300
    },
    "id": "OhC70oa6HQn7",
    "outputId": "e88eba44-57ad-4bdc-e804-7457898395ad"
   },
   "outputs": [
    {
     "name": "stdout",
     "output_type": "stream",
     "text": [
      "    z         ra       dec          bestObjID     \n",
      "--------- --------- ---------- -------------------\n",
      "0.3000001 184.86409  52.571314 1237657629529211079\n",
      "0.3000009 222.98982  42.629408 1237658203986460871\n",
      "0.3000009 146.39863  5.8334459 1237658423547920434\n",
      "0.3000012 49.459411   0.847754 1237660241924063461\n",
      "0.3000018 172.28104  10.234226 1237658493349789816\n",
      "0.3000027 156.25024  7.6586271 1237658425162858683\n",
      "0.3000027 231.07321  32.718373 1237662341082382595\n",
      "0.3000033 197.37712  10.524518 1237662238545478566\n",
      "0.3000035 184.90501 -3.3095095 1237650760782053596\n",
      "0.3000037 242.52563  6.0693494 1237662198290186255\n"
     ]
    }
   ],
   "source": [
    "# Sample Query: Logical Operators\n",
    "query_string = '''select top 10\n",
    "    z, ra, dec, bestObjID\n",
    "from\n",
    "    specObj\n",
    "where\n",
    "    class = 'galaxy'\n",
    "    and z > 0.3\n",
    "    and zWarning = 0\n",
    "'''\n",
    "\n",
    "data = SDSS.query_sql(query_string,verbose=False)\n",
    "print(data)"
   ]
  },
  {
   "cell_type": "code",
   "execution_count": 8,
   "metadata": {
    "colab": {
     "base_uri": "https://localhost:8080/"
    },
    "executionInfo": {
     "elapsed": 300,
     "status": "ok",
     "timestamp": 1644352519466,
     "user": {
      "displayName": "Kevin Flaherty",
      "photoUrl": "https://lh3.googleusercontent.com/a/default-user=s64",
      "userId": "15812311172606787912"
     },
     "user_tz": 300
    },
    "id": "OegPzvbYHj4q",
    "outputId": "b456ac51-f9a2-4dd6-a600-e4a3dc0c4ec5"
   },
   "outputs": [
    {
     "name": "stdout",
     "output_type": "stream",
     "text": [
      "    z         ra       dec          bestObjID     \n",
      "--------- --------- ---------- -------------------\n",
      "0.3000001 184.86409  52.571314 1237657629529211079\n",
      "0.3000009 222.98982  42.629408 1237658203986460871\n",
      "0.3000009 146.39863  5.8334459 1237658423547920434\n",
      "0.3000012 49.459411   0.847754 1237660241924063461\n",
      "0.3000018 172.28104  10.234226 1237658493349789816\n",
      "0.3000027 156.25024  7.6586271 1237658425162858683\n",
      "0.3000027 231.07321  32.718373 1237662341082382595\n",
      "0.3000033 197.37712  10.524518 1237662238545478566\n",
      "0.3000035 184.90501 -3.3095095 1237650760782053596\n",
      "0.3000037 242.52563  6.0693494 1237662198290186255\n"
     ]
    }
   ],
   "source": [
    "# Sample Query: Logical Operators\n",
    "query_string = '''select top 10\n",
    "    z, ra, dec, bestObjID\n",
    "from \n",
    "    specObj\n",
    "where\n",
    "    (class = 'galaxy' or class = 'qso')\n",
    "    and z > 0.3\n",
    "    and zWarning = 0\n",
    "'''\n",
    "\n",
    "data = SDSS.query_sql(query_string,verbose=False)\n",
    "print(data)"
   ]
  },
  {
   "cell_type": "code",
   "execution_count": 9,
   "metadata": {
    "colab": {
     "base_uri": "https://localhost:8080/"
    },
    "executionInfo": {
     "elapsed": 1760,
     "status": "ok",
     "timestamp": 1644352544429,
     "user": {
      "displayName": "Kevin Flaherty",
      "photoUrl": "https://lh3.googleusercontent.com/a/default-user=s64",
      "userId": "15812311172606787912"
     },
     "user_tz": 300
    },
    "id": "y9DIY_3PH3mW",
    "outputId": "2c1745e9-76b3-42a1-e1ec-06cc440207c4"
   },
   "outputs": [
    {
     "name": "stdout",
     "output_type": "stream",
     "text": [
      "       ra              dec        modelMag_u ... modelMag_z        objID       \n",
      "---------------- ---------------- ---------- ... ---------- -------------------\n",
      "21.7489625734203 20.8928509871811   24.47644 ...   20.93681 1237679541360656765\n",
      "21.7146801359507 20.4432857186118    23.4531 ...   20.20991 1237679461900353900\n",
      "22.3833537049599 20.0086760632325   23.31016 ...   21.33505 1237679504864968995\n",
      "20.4532228010766 19.4146674875702   23.74691 ...    23.3264 1237679503790441055\n",
      "20.4575029739604 19.4034512992811   22.09286 ...   21.46572 1237679503790441061\n",
      "23.8528956918851  17.960344971995   25.89019 ...   23.56271 1237679459216982791\n",
      "23.8678603354314 18.0722111769438     24.668 ...   23.14229 1237679459216982799\n",
      "24.1930872176298 19.1999599866118    23.1454 ...   21.21239 1237679460827660758\n",
      " 23.789412470134 18.2858004580844   24.12651 ...   20.76979 1237679502718141036\n",
      "23.7877842920117 18.2587365072431   24.26909 ...   21.52649 1237679502718141037\n"
     ]
    }
   ],
   "source": [
    "# Sample Query: Logical Operators\n",
    "query_string = '''select top 10\n",
    "    ra, dec, modelMag_u, modelMag_g, modelMag_r, modelMag_i, modelMag_z, objID\n",
    "from \n",
    "    photoObj\n",
    "where\n",
    "    type = 6\n",
    "    and modelMag_u - modelMag_g < 0.5\n",
    "'''\n",
    "\n",
    "data = SDSS.query_sql(query_string,verbose=False)\n",
    "print(data)"
   ]
  },
  {
   "cell_type": "markdown",
   "metadata": {
    "id": "0w0IFiRPIgYl"
   },
   "source": [
    "\n",
    "> **Practice 3:** What are the reddest galaxies in the area of the sky near ra=141?\n",
    ">\n",
    "> Write a query to search for galaxies between ra = 140.9 and ra = 141.1 brighter than g=18.0 for which u-g>2.2. Retrieve the Object ID, ra, dec, and the five final magnitudes."
   ]
  },
  {
   "cell_type": "code",
   "execution_count": 10,
   "metadata": {
    "colab": {
     "base_uri": "https://localhost:8080/"
    },
    "executionInfo": {
     "elapsed": 1091,
     "status": "ok",
     "timestamp": 1644352879687,
     "user": {
      "displayName": "Kevin Flaherty",
      "photoUrl": "https://lh3.googleusercontent.com/a/default-user=s64",
      "userId": "15812311172606787912"
     },
     "user_tz": 300
    },
    "id": "IiHvAl1WI1pA",
    "outputId": "b8a77fee-5e30-498a-d85c-6171e25f4286"
   },
   "outputs": [
    {
     "name": "stdout",
     "output_type": "stream",
     "text": [
      "       objID               ra        ... modelMag_i modelMag_z\n",
      "------------------- ---------------- ... ---------- ----------\n",
      "1237672132001530905 283.748738272469 ...   15.82844   15.29652\n",
      "1237667206208422149 80.5427521003942 ...   15.95102   23.03563\n",
      "1237667206208422152 80.5449438194449 ...   16.73747   19.53274\n",
      "1237667206208421996 80.4552327793352 ...    12.0804   13.41948\n",
      "1237667206208422131  80.444725770296 ...   15.65011   15.48841\n",
      "1237672132001531061 283.867839890997 ...   10.87182   10.48374\n",
      "1237672132001531103 283.868592770409 ...   15.70019    23.0845\n",
      "1237654872683905062 154.849474331231 ...   15.18962   15.00237\n",
      "1237655549668032618 242.972085394935 ...   9.720732   9.675129\n",
      "1237652938327916898 313.683556336204 ...   15.75685   22.82109\n"
     ]
    }
   ],
   "source": [
    "# Practice 3\n",
    "query_string = '''select top 10\n",
    "  objID, ra, dec, modelMag_u, modelMag_g, modelMag_r, modelMag_i, modelMag_z\n",
    "from photoObj\n",
    "where\n",
    "  type = 3 and\n",
    "  modelMag_g < 18.0 and\n",
    "  modelMag_u-modelMag_g>2.2\n",
    "\n",
    "'''\n",
    "\n",
    "data = SDSS.query_sql(query_string,verbose=False)\n",
    "print(data)"
   ]
  },
  {
   "cell_type": "markdown",
   "metadata": {
    "id": "jA_WcaVjJEyT"
   },
   "source": [
    "> **Practice 4:** What are the highest-redshift quasars in the SDSS database?\n",
    ">\n",
    "> Write a query to search for quasars for which we have obtained spectra (search the specObj table) with redshifts greater than 4.5 and good measurements (zWarning=0). Retrieve each quasar's Photo ID, ra, dec, and redshift."
   ]
  },
  {
   "cell_type": "code",
   "execution_count": 11,
   "metadata": {
    "colab": {
     "base_uri": "https://localhost:8080/"
    },
    "executionInfo": {
     "elapsed": 919,
     "status": "ok",
     "timestamp": 1644353025934,
     "user": {
      "displayName": "Kevin Flaherty",
      "photoUrl": "https://lh3.googleusercontent.com/a/default-user=s64",
      "userId": "15812311172606787912"
     },
     "user_tz": 300
    },
    "id": "vzfyVSJoJWc1",
    "outputId": "29a4015e-0523-4f68-e291-ff3a9ce7f8a3"
   },
   "outputs": [
    {
     "name": "stdout",
     "output_type": "stream",
     "text": [
      "    ra        dec        z          bestobjID     \n",
      "--------- ----------- -------- -------------------\n",
      "226.87766   55.619792 4.500529 1237655465388999582\n",
      "166.32833   19.832961  4.50241 1237668290162131387\n",
      "167.10967  0.61852761 4.502814 1237674650996769779\n",
      "145.02001   5.4419457 4.503839 1237674460417754011\n",
      "116.39974   33.178191 4.504273 1237674289681072697\n",
      "127.76246   52.592732 4.504608 1237651272960836116\n",
      " 188.6143   29.449435 4.504811 1237667253480325869\n",
      "34.927581 -0.19360219 4.505384 1237666407920829375\n",
      "132.93219   23.535822 4.505914 1237665098459382395\n",
      " 29.34542   2.0443026 4.507283 1237678618504397427\n"
     ]
    }
   ],
   "source": [
    "# Practice 4\n",
    "query_string = '''select top 10\n",
    "  ra, dec, z, bestobjID\n",
    "from specobj\n",
    "where\n",
    "  z > 4.5 and\n",
    "  zWarning = 0 and\n",
    "  class = 'qso'\n",
    "\n",
    "'''\n",
    "\n",
    "data = SDSS.query_sql(query_string,verbose=False)\n",
    "print(data)"
   ]
  },
  {
   "cell_type": "code",
   "execution_count": 12,
   "metadata": {
    "colab": {
     "base_uri": "https://localhost:8080/"
    },
    "executionInfo": {
     "elapsed": 1406,
     "status": "ok",
     "timestamp": 1644353035143,
     "user": {
      "displayName": "Kevin Flaherty",
      "photoUrl": "https://lh3.googleusercontent.com/a/default-user=s64",
      "userId": "15812311172606787912"
     },
     "user_tz": 300
    },
    "id": "VUC0mgmBJeZf",
    "outputId": "cef16fc9-5685-4f88-8f42-eb9913e7e877"
   },
   "outputs": [
    {
     "name": "stdout",
     "output_type": "stream",
     "text": [
      "plate  mjd  fiberID ...        dec             z            ObjID       \n",
      "----- ----- ------- ... ------------------ --------- -------------------\n",
      "  266 51630     133 ... -0.790101585801458  0.367843 1237650795146182823\n",
      "  405 51816     557 ... 0.0939898305717069 0.3838535 1237663784212299796\n",
      "  435 51882     441 ...   41.7736025629101 0.3626565 1237651191889133881\n",
      "  399 51817     406 ...  0.935562504737754 0.3810727 1237663785280405653\n",
      "  266 51630     252 ...   -1.0644603442597 0.3395857 1237650794609115162\n",
      "  266 51630     161 ... -0.259485341101189 0.3253868 1237650795683184784\n",
      "  486 51910     587 ...     61.83930260932 0.3947759 1237651272429994188\n",
      "  ...   ...     ... ...                ...       ...                 ...\n",
      "  280 51612     592 ...  0.552258176674583 0.3199581 1237674650998734893\n",
      "  302 51688     124 ...  -1.01737095446737 0.3829785 1237674601605431697\n",
      "  301 51942     577 ...  0.792616944343723  0.361432 1237648722317672500\n",
      "  279 51984     604 ...  0.938989963692516 0.3702225 1237674651534885105\n",
      "  279 51984     585 ...  0.454395106931621 0.3738832 1237674650998079680\n",
      "  279 51984     410 ...  0.952280532133548 0.3541408 1237674651534360781\n",
      "  267 51608     630 ...  0.470241310994768 0.3097312 1237654670808907811\n",
      "Length = 100 rows\n"
     ]
    }
   ],
   "source": [
    "# Sample Query: Joining\n",
    "query_string = '''select top 100\n",
    "    x.plate, x.mjd,\n",
    "    s.fiberID,\n",
    "    p.modelMag_u, p.modelMag_g, p.ModelMag_r, p.ModelMag_i, p.ModelMag_z,\n",
    "    p.ra, p.dec,\n",
    "    s.z, p.ObjID\n",
    "from photoObj p\n",
    "join specObJ s on s.bestobjid = p.objid\n",
    "join plateX x on x.plateID = s.plateID\n",
    "where\n",
    "    s.class = 'qso'\n",
    "    and s.zwarning = 0\n",
    "    and s.z between 0.3 and 0.4\n",
    "'''\n",
    "\n",
    "data = SDSS.query_sql(query_string,verbose=False)\n",
    "print(data)"
   ]
  },
  {
   "cell_type": "markdown",
   "metadata": {
    "id": "JZp-PEoVKjlh"
   },
   "source": [
    "> **Practice 5:** How can you look up image data, plates, and spectra of moderately bright galaxies?\n",
    ">\n",
    "> Write a query to find 100 galaxies for which we have spectra that have g magnitude between 17 and 17.4 and redshift less than 0.05. For each galaxy retrieve the object ID, the five magnitudes, the redshift, the plate/MJD number, and the fiber number."
   ]
  },
  {
   "cell_type": "code",
   "execution_count": 13,
   "metadata": {
    "colab": {
     "base_uri": "https://localhost:8080/"
    },
    "executionInfo": {
     "elapsed": 3764,
     "status": "ok",
     "timestamp": 1644353221644,
     "user": {
      "displayName": "Kevin Flaherty",
      "photoUrl": "https://lh3.googleusercontent.com/a/default-user=s64",
      "userId": "15812311172606787912"
     },
     "user_tz": 300
    },
    "id": "qCcwesZ6K3R-",
    "outputId": "6c196093-f68f-4f6d-8012-34e14832dcd3"
   },
   "outputs": [
    {
     "name": "stdout",
     "output_type": "stream",
     "text": [
      "       objid        modelmag_u modelmag_g ... fiberid       plateid      \n",
      "------------------- ---------- ---------- ... ------- -------------------\n",
      "1237663783677722827   18.80216   17.22076 ...     235  459367192543127552\n",
      "1237670015127060540   18.74901   17.13847 ...     295 2627850444864514048\n",
      "1237657587097403535   18.32945   17.27628 ...     411  459367192543127552\n",
      "1237659161202393400   19.10504   17.29792 ...     457 1188950347998062592\n",
      "1237663783678181395   18.31826   17.35348 ...     155  459367192543127552\n",
      "1237663783677591756   19.08607   17.13587 ...     238  459367192543127552\n",
      "1237658613056798884   18.32199   17.38312 ...     353 1089871150290331648\n",
      "                ...        ...        ... ...     ...                 ...\n",
      "1237667429561598021   18.89843   17.03318 ...     188 2637983544395196416\n",
      "1237663783669727302   18.42834    17.2171 ...     194  449234093314435072\n",
      "1237658918531301550   19.06465   17.39562 ...     330 1168684148148168704\n",
      "1237667108501192979   18.46069   17.28883 ...     628 2559170550480005120\n",
      "1237660554913185942   19.50466   17.35433 ...     225 1408500833187817472\n",
      "1237671932817440882   18.25422   17.33906 ...     329 1396115930353788928\n",
      "1237667429561794698   19.00006   17.35253 ...     172 2637983544395196416\n",
      "Length = 100 rows\n"
     ]
    }
   ],
   "source": [
    "# Practice 5\n",
    "query_string = '''select top 100\n",
    "  p.objid, p.modelmag_u, p.modelmag_g, p.modelmag_r, p.modelmag_i, p.modelmag_z, \n",
    "  s.z, s.fiberid,\n",
    "  x.plateid\n",
    "from photoobj p\n",
    "join specobj s on s.bestobjid = p.objid\n",
    "join platex x on x.plateid = s.plateid\n",
    "where\n",
    "  p.modelmag_g between 17 and 17.4 and\n",
    "  s.z < 0.05 and\n",
    "  s.class = 'galaxy'\n",
    "\n",
    "'''\n",
    "\n",
    "data = SDSS.query_sql(query_string,verbose=False)\n",
    "print(data)"
   ]
  },
  {
   "cell_type": "markdown",
   "metadata": {},
   "source": [
    "### Putting it all together\n",
    "\n",
    "We have seen how to collect information from different databases. Now lets put it together.\n",
    "\n",
    "> **Q:** Let examine the Virgo galaxy cluster, by estimating its total mass based on its velocity dispersion, and look at the colors of the galaxies. To calculate the mass you can use the virial theorem, $M=2Rv^2/G$, where $R$ is the radius of the cluster (assume $R$=7.5 million light years), $G$ is the gravitational constant, and $v$ is the standard deviation of the velocities, which you can derive from the standard deviation of the redshift $z$ ($z=vc$, where $c$ is the speed of light). Also, make a plot of g-i vs i for each of the galaxies within the Virgo cluster.\n",
    "Query the SDSS database for all galaxies within 5 degrees of the center of the Virgo cluster, with a redshift within 50% of the average value for the Virgo cluster. Think about which values you need to pull out from the database. \n",
    "\n",
    "In cgs units, 1 light year = 9.5$\\times10^{17}$cm, G = 6.67$\\times10^{-8}$ cm$^{3}$/g/s$^2$, c=2.99$\\times10^{10}$cm/s, and the mass of the Sun is 1.99$\\times10^{33}$ g."
   ]
  },
  {
   "cell_type": "code",
   "execution_count": 33,
   "metadata": {},
   "outputs": [
    {
     "name": "stdout",
     "output_type": "stream",
     "text": [
      "       objid        modelmag_g modelmag_i      z     \n",
      "------------------- ---------- ---------- -----------\n",
      "1237661069796900926   15.09955   15.56826  0.00244776\n",
      "1237661070873133125   16.43402   15.80676  0.00257283\n",
      "1237664289926480101   21.75362   21.31621 0.004304042\n",
      "1237658492281028625     13.284   12.05649 0.002057852\n",
      "1237661068722176158   16.26715   15.61423 0.002991138\n",
      "1237661069261537498   16.32395   16.09218 0.002989913\n",
      "1237661069796114663   16.38944   15.98313 0.003434411\n",
      "                ...        ...        ...         ...\n",
      "1237664289928118309   14.94217    14.0402 0.004219569\n",
      "1237668494171897992   17.87925   17.41666 0.004067285\n",
      "1237671127520510247   17.81249   17.39389 0.005434663\n",
      "1237671128593989759    12.9213    11.8385 0.005509924\n",
      "1237658491744026761   16.56027   16.08924 0.005976003\n",
      "1237661950253793438   16.79844   16.10863  0.00582912\n",
      "1237662525228777577   17.06059   16.59245 0.005894653\n",
      "Length = 50 rows\n"
     ]
    }
   ],
   "source": [
    "query_string ='''select \n",
    "  p.objid, p.modelmag_g, p.modelmag_i,  \n",
    "  s.z\n",
    "from photoobj p\n",
    "join specobj s on s.bestobjid = p.objid\n",
    "where\n",
    "  p.ra between 175 and 185 and\n",
    "  p.dec between 7 and 17 and\n",
    "  s.class = 'galaxy' and\n",
    "  s.z between .002 and .006\n",
    "\n",
    "'''\n",
    "data = SDSS.query_sql(query_string,verbose=False)\n",
    "print(data)"
   ]
  },
  {
   "cell_type": "code",
   "execution_count": 34,
   "metadata": {},
   "outputs": [
    {
     "data": {
      "text/plain": [
       "Text(0, 0.5, 'g-i')"
      ]
     },
     "execution_count": 34,
     "metadata": {},
     "output_type": "execute_result"
    },
    {
     "data": {
      "image/png": "[encoded data removed]",
      "text/plain": [
       "<Figure size 432x288 with 1 Axes>"
      ]
     },
     "metadata": {
      "needs_background": "light"
     },
     "output_type": "display_data"
    }
   ],
   "source": [
    "import matplotlib.pyplot as plt\n",
    "plt.plot(data['modelmag_i'],data['modelmag_g']-data['modelmag_i'],'.k')\n",
    "plt.xlabel('i')\n",
    "plt.ylabel('g-i')"
   ]
  },
  {
   "cell_type": "code",
   "execution_count": 35,
   "metadata": {},
   "outputs": [
    {
     "name": "stdout",
     "output_type": "stream",
     "text": [
      "0.13625519457347385\n",
      "356.9865374951765\n"
     ]
    }
   ],
   "source": [
    "import numpy as np\n",
    "mass = 2*7.5e6*9.461e17*(np.std(data['z']*2.99e10)**2)/6.67e-8/1.99e33\n",
    "print(mass/1e15)"
   ]
  },
  {
   "cell_type": "markdown",
   "metadata": {
    "id": "y6ddorBCMx8u"
   },
   "source": [
    "\n",
    "### To turn in this lab, share the lab with me using the *Share* button in the upper right.\n"
   ]
  }
 ],
 "metadata": {
  "colab": {
   "authorship_tag": "ABX9TyPFEPZnWkHtVi9JaKoe2/YH",
   "collapsed_sections": [],
   "name": "Solns:Part2_SDSS_SQL.ipynb",
   "provenance": []
  },
  "kernelspec": {
   "display_name": "Python 3 (ipykernel)",
   "language": "python",
   "name": "python3"
  },
  "language_info": {
   "codemirror_mode": {
    "name": "ipython",
    "version": 3
   },
   "file_extension": ".py",
   "mimetype": "text/x-python",
   "name": "python",
   "nbconvert_exporter": "python",
   "pygments_lexer": "ipython3",
   "version": "3.9.12"
  }
 },
 "nbformat": 4,
 "nbformat_minor": 4
}
