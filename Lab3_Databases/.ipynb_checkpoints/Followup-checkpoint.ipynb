{
 "cells": [
  {
   "cell_type": "markdown",
   "id": "96b5a7ea-5e02-4d88-b45f-655fd785193d",
   "metadata": {},
   "source": [
    "### Online Databases\n",
    "\n",
    "It has been a few days since you worked on the Online Databases lab. Complete the review exercises below, and try to do as much as you can *before* reviewing the lab."
   ]
  },
  {
   "cell_type": "markdown",
   "id": "0bef0ac2-73b7-4c5b-9baa-9c1a124895b5",
   "metadata": {},
   "source": [
    "plotting points\n",
    "load data from a text file\n",
    "Search for parallax data in gaia\n",
    "Search for galaxy and star properties in ned and simbad\n",
    "SQL queries - simple, top 10, logical operators, joining, \n",
    "\n",
    "\n",
    "Ask them what a particular SQL query does.\n",
    "Show them error-filled code to read in and plot data from a text file."
   ]
  },
  {
   "cell_type": "markdown",
   "id": "7a0597da-3ef0-44a3-b490-bd61137cac37",
   "metadata": {},
   "source": [
    ":::{exercise}\n",
    "\n",
    "Of the following databases, which contain information on parallaxes?\n",
    "- [ ] SDSS\n",
    "- [ ] NED\n",
    "- [ ] Gaia\n",
    "- [ ] Simbad\n",
    ":::\n",
    "\n",
    ":::{exercise}\n",
    "\n",
    "Of the following databases, which contain information about galaxies and extra-galactic objects?\n",
    "- [ ] SDSS\n",
    "- [ ] NED\n",
    "- [ ] Gaia\n",
    "- [ ] Simbad\n",
    ":::"
   ]
  },
  {
   "cell_type": "markdown",
   "id": "bdb37a59-9aff-4ee7-9d81-0a06e57f248c",
   "metadata": {},
   "source": [
    ":::{exercise}\n",
    "\n",
    "The following is a block of SQL code:\n",
    "\n",
    "```{code-cell} sql\n",
    "select \n",
    "  p.modelmag_g, p.modelmag_i\n",
    "from photoobj \n",
    "join specobj on s.bestobjid = p.objid\n",
    "where\n",
    "  s.class = 'galaxy' \n",
    "  s.z between .5 and 1.5\n",
    "```\n",
    "Fix the errors in this query, and describe what it does. \n",
    "\n",
    ":::"
   ]
  },
  {
   "cell_type": "markdown",
   "id": "f24e8a09-593e-4b20-a92a-92ab6374c819",
   "metadata": {},
   "source": [
    ":::{exercise}\n",
    "\n",
    "In the space below, describe the results from your *Putting it all together* exercise. In a few sentences, describe the data available, what processing was applied to the data, and the result of your final examination of the data. Note any errors that you ran into, and how you addressed these issues. \n",
    ":::"
   ]
  },
  {
   "cell_type": "code",
   "execution_count": null,
   "id": "9436a5b2-4c70-4abe-b570-80e970201314",
   "metadata": {},
   "outputs": [],
   "source": []
  }
 ],
 "metadata": {
  "kernelspec": {
   "display_name": "Python 3 (ipykernel)",
   "language": "python",
   "name": "python3"
  },
  "language_info": {
   "codemirror_mode": {
    "name": "ipython",
    "version": 3
   },
   "file_extension": ".py",
   "mimetype": "text/x-python",
   "name": "python",
   "nbconvert_exporter": "python",
   "pygments_lexer": "ipython3",
   "version": "3.9.12"
  }
 },
 "nbformat": 4,
 "nbformat_minor": 5
}
