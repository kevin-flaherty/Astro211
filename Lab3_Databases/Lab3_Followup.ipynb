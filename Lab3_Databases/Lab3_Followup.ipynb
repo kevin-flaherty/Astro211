{
 "cells": [
  {
   "cell_type": "markdown",
   "id": "96b5a7ea-5e02-4d88-b45f-655fd785193d",
   "metadata": {},
   "source": [
    "## Observing Databases - Follow Up\n",
    "\n",
    "**Before you do anything else, make a duplicate copy of this notebook, and update the name to include your name or initials. Make any requested edits to that copy.**\n",
    "\n",
    "### Names: [Insert your names here]\n",
    "\n",
    "Complete the activities below before the start of lab. Feel free to refer back to your python notebook from last week. "
   ]
  },
  {
   "cell_type": "markdown",
   "id": "0bef0ac2-73b7-4c5b-9baa-9c1a124895b5",
   "metadata": {},
   "source": [
    "plotting points\n",
    "load data from a text file\n",
    "Search for parallax data in gaia\n",
    "Search for galaxy and star properties in ned and simbad\n",
    "SQL queries - simple, top 10, logical operators, joining, \n",
    "\n",
    "\n",
    "Ask them what a particular SQL query does.\n",
    "Show them error-filled code to read in and plot data from a text file."
   ]
  },
  {
   "cell_type": "markdown",
   "id": "7a0597da-3ef0-44a3-b490-bd61137cac37",
   "metadata": {},
   "source": [
    "## 1\n",
    "\n",
    "Among the following databases, place a + in between brackets for the databases that contain information on parallax\n",
    "- [ ] SDSS\n",
    "- [ ] NED\n",
    "- [ ] Gaia\n",
    "- [ ] Simbad\n",
    "\n",
    "\n",
    "## 2\n",
    "\n",
    "Among the following databases, place a + next to the databases that contain information about galaxies and extra-galactic objects.\n",
    "- [ ] SDSS\n",
    "- [ ] NED\n",
    "- [ ] Gaia\n",
    "- [ ] Simbad\n"
   ]
  },
  {
   "cell_type": "markdown",
   "id": "bdb37a59-9aff-4ee7-9d81-0a06e57f248c",
   "metadata": {},
   "source": [
    "## 3\n",
    "\n",
    "The following is a block of SQL code:\n",
    "\n",
    "```sql\n",
    "select \n",
    "  p.modelmag_g, p.modelmag_i\n",
    "from photoobj \n",
    "join specobj on s.bestobjid = p.objid\n",
    "where\n",
    "  s.class = 'galaxy' \n",
    "  s.z between .5 and 1.5\n",
    "```\n",
    "Fix the errors in this query, and describe what it does. \n"
   ]
  },
  {
   "cell_type": "markdown",
   "id": "ad5e4d92",
   "metadata": {},
   "source": [
    "**Answer:**"
   ]
  },
  {
   "cell_type": "markdown",
   "id": "f24e8a09-593e-4b20-a92a-92ab6374c819",
   "metadata": {},
   "source": [
    "## 4\n",
    "\n",
    "At the end of the previous lab you calculated the mass of a cluster of galaxies based on the velocities of the observed galaxies. \n",
    "\n",
    "Describe one way that you could check that you answer is 'correct', beyond looking at the solutions. \n",
    "\n",
    "**Answer:**\n",
    "\n",
    "What assumptions did you make in that calculation? Among the programming elements that you have seen, what would you use and how would you use them, to generalize your calculation so that you could examine different values of your assumptions? \n",
    "\n",
    "**Answer:**\n"
   ]
  },
  {
   "cell_type": "code",
   "execution_count": null,
   "id": "9436a5b2-4c70-4abe-b570-80e970201314",
   "metadata": {},
   "outputs": [],
   "source": []
  }
 ],
 "metadata": {
  "kernelspec": {
   "display_name": "Python 3 (ipykernel)",
   "language": "python",
   "name": "python3"
  },
  "language_info": {
   "codemirror_mode": {
    "name": "ipython",
    "version": 3
   },
   "file_extension": ".py",
   "mimetype": "text/x-python",
   "name": "python",
   "nbconvert_exporter": "python",
   "pygments_lexer": "ipython3",
   "version": "3.9.12"
  }
 },
 "nbformat": 4,
 "nbformat_minor": 5
}
