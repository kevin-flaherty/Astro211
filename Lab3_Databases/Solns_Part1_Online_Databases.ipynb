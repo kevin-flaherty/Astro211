{
 "cells": [
  {
   "cell_type": "markdown",
   "metadata": {
    "id": "FzBvWJklrdbr"
   },
   "source": [
    "# Observation Planning\n",
    "---\n",
    "### Names: [Enter your names here]\n",
    "\n",
    "**Before you do anything else, go to File -> Save a Copy in Drive. Make any requested edits to that copy.**\n",
    "\n",
    "\n",
    "**New Code/Tools**\n",
    "\n",
    "* Simple queries in online databases (Simbad, GAIA, NED).\n",
    "* Plotting data points instead of, or in addition to, a line. \n",
    "* Specify the marker symbol in a plot.\n",
    "* Specify the color of the symbols/lines in a plot."
   ]
  },
  {
   "cell_type": "markdown",
   "metadata": {
    "id": "GExqJex3NtN-"
   },
   "source": [
    "\n",
    "\n",
    "Many observatories host their data online, making them easily accessible to astronomers around the world. This lab will introduce you to various online databases, how to access their data and then introduce you to SQL, a language for querying online databases.\n",
    "\n",
    "## Online Data\n",
    "\n",
    "A number of online databases collect astronomical data sets. These databases can include repositories for specific observatories, or can collect data from multiple observatories. Within the databases you can find raw data (e.g., original images), processed products (e.g., processed images, photometry), or derived values (e.g., effective temperature of a star, redshift of a galaxy).\n",
    "\n",
    "### General Databases\n",
    "A number of databases provide general information about an object (or list of objects), as pulled from various sources. One main example is the *SIMBAD* database [http://simbad.u-strasbg.fr/simbad/](http://simbad.u-strasbg.fr/simbad/)\n",
    "\n",
    "> Click the link for **SIMBAD**. In the SIMBAD main page click **basic search**, enter **Betelgeuse** in the search box and hit **enter**.\n",
    "\n",
    "You will see a page containing information on Betelgeuse, including its position on the sky, spectral type, motion (proper motion, radial velocity, parallax), and photometric data. There is also a thumbnail image and, scrolling down, you can see a list of alternate names, a way to access published research on Betelgeause, a way to access collected data on the object, and links to external archives. SIMBAD serves as a useful one-stop shop for finding more information on a target.\n",
    "\n",
    "> **Q:** Search for the exoplanet host star 55 Cancri. Record its RA, Dec, and spectral type in the space below\n",
    "\n",
    "|55 Cancri    |                      |\n",
    "|:-----------:|----------------------|\n",
    "|RA           |**08:52:35.8**|\n",
    "|Dec          |**28:19:50.95**|\n",
    "|Spectral Type|**K0IV-V**|\n",
    "\n",
    "\n",
    "*SIMBAD* is only one example of such a database. Others include:\n",
    "- *NED* (NASA/IPAC Extragalactic Database) [https://ned.ipac.caltech.edu](https://ned.ipac.caltech.edu): A database focused on extragalactic sources.\n",
    "- *JPL Horizons System* [https://ssd.jpl.nasa.gov/?horizons](https://ssd.jpl.nasa.gov/?horizons): Highly accurate solar system data.\n",
    "- *NASA Exoplanet Archive* [https://exoplanetarchive.ipac.caltech.edu](https://exoplanetarchive.ipac.caltech.edu): Focuses on exoplanets. \n",
    "- *Solar System Object Image Search* [http://www.cadc-ccda.hia-iha.nrc-cnrc.gc.ca/en/ssois/](http://www.cadc-ccda.hia-iha.nrc-cnrc.gc.ca/en/ssois/): Like the name suggests, this lets you search for images of solar system objects\n",
    "- *Transient Name Server* [https://wis-tns.weizmann.ac.il/](https://wis-tns.weizmann.ac.il/), *The Open Supernova Catalog* [https://sne.space/](https://sne.space/), *The Open TDE Catalog* [https://tde.space](https://tde.space), *The Open Kilonova Catalog* [https://kilonova.space/](https://kilonova.space/): Catalogs of transient event (Supernovae, tidal disruption events, etc.) \n",
    "- *NASA ADS* (Abstract Database Service) [https://ui.adsabs.harvard.edu](https://ui.adsabs.harvard.edu)\n",
    "\n",
    "The last database does not contain data, but does allow you to search through research papers. As you get deeper into research, *ADS* will be a frequent destination.\n",
    "\n",
    "> **Q:** Within *NED*, search for the galaxy Arp 220. In the table below, record its RA, Dec, and (Hubble) distance.\n",
    "\n",
    "|Arp 220      |                      |\n",
    "|:-----------:|----------------------|\n",
    "|RA           |**15:34:57.3**|\n",
    "|Dec          |**23:30:11.3**|\n",
    "|Distance     |**83.13 Mpc**|\n",
    "\n",
    "> **Q:** The following list contains galaxies from the Messier catalog. Based on the data in NED, which of these galaxies has a diameter larger than the field of view of the camera on our 24-inch telescope (20')?\n",
    ">\n",
    "> M31, M49, M66, M83, M95, M102, M105, M106, M109, M110\n",
    ">\n",
    "> Galaxies that are too big: **M31, M102, M106, M110**\n",
    ">\n",
    "\n",
    "> **Q:** Which of these galaxies could you observe tonight (~8pm) at our observatory? Make sure to take into account the altitude of the galaxy at that time, as well as whether or not it is small enough to fit within the field of view of our camera.\n",
    "\n",
    "**M49, M66, M95, M105, M109**\n"
   ]
  },
  {
   "cell_type": "markdown",
   "metadata": {
    "id": "VLpGotPdbcoK"
   },
   "source": [
    "### Data Databases\n",
    "\n",
    "Some databases focus on collecting data from multiple telescopes. This data can include photometry at different wavelengths, or images.spectra taken by different telescopes/instruments, but does not necessarily include derived properties (e.g. spectral type, distances). \n",
    "\n",
    "Examples of databases that collect data from multiple telescopes into one place includes:\n",
    "- *MAST* (Mikulski Archive for Space Telescopes) [https://archive.stsci.edu](https://archive.stsci.edu): Focuses on data from space missions, including Hubble, Kepler, TESS, and JWST (after it launches).\n",
    "- *IRSA* (NASA/IPAC Infrared Science Archive) [https://irsa.ipac.caltech.edu/frontpage/](https://irsa.ipac.caltech.edu/frontpage/): Focuses on data from infrared telescopes, including Spitzer, Herschel, SOFIA, 2MASS, Planck, etc.\n",
    "- *Astro Datalab* [https://datalab.noao.edu](https://datalab.noao.edu): Provides access to data from telescopes operated by the NSF OIR Research Lab (formely NOAO)\n",
    "- *Vizier* [https://vizier.u-strasbg.fr](https://vizier.u-strasbg.fr): Provides access to published astronomical catalogues. Useful if you are looking for all available data on a list of objects from smaller surveys. These tables may also contain derived parameters (e.g. spectral type, distance). \n",
    "- *Worldwide Telescope* [http://www.worldwidetelescope.org/webclient/](http://www.worldwidetelescope.org/webclient/), *ESA-Sky* [https://sky.esa.int](https://sky.esa.int): Both are tools for the visualization and sharing of data from observatories around the world. The Worldwide telescope is sponsored by the American Astronomical Society, while ESA-Sky is sponsored by the European Space Agency. Both provide similar, although not identical, functionality. \n",
    "- *Virtual Observatory* [http://ivoa.net](http://ivoa.net): A project to seamlessly integrate all astronomical catalogues and databases.\n",
    "- *Topcat* [http://www.star.bris.ac.uk/~mbt/topcat/](http://www.star.bris.ac.uk/~mbt/topcat/): A stand-alone java based program that provides access to various databases.\n",
    "\n",
    "All of the above databases focus on collecting data from multiple different telescopes/sources. Many individual telescopes also host their own archives that can be accessed online. The type of data returned by these databases (e.g., raw images vs. reduced images vs. photometry) vary with the telescope).\n",
    "- *GAIA* [http://gea.esac.esa.int/archive/](http://gea.esac.esa.int/archive/): Highly accurate positions, as well as parallaxes and proper motions for billions of objects.\n",
    "- *SDSS* (Sloan Digital Sky Survey) [https://www.sdss.org/dr16/data_access/](https://www.sdss.org/dr16/data_access/): Optical imaging and spectroscopy for millions of objects across much of the sky. We will return to data access within SDSS later.\n",
    "- *CXC* (Chandra X-ray Center) [http://cxc.harvard.edu/cda/](http://cxc.harvard.edu/cda/): High-energy observations from one of NASA's Great Observatories\n",
    "- *ALMA* (Atacama Large submillimeter/Millimeter Array) [http://almascience.nrao.edu/aq/](http://almascience.nrao.edu/aq/): Radio data from ALMA\n",
    "\n",
    "Some numerical simulations even host their results online:\n",
    "- *Millennium Simulation* [https://wwwmpa.mpa-garching.mpg.de/millennium/](https://wwwmpa.mpa-garching.mpg.de/millennium/)\n",
    "- *The EAGLE Project* [http://icc.dur.ac.uk/Eagle/database.php](http://icc.dur.ac.uk/Eagle/database.php)\n",
    "- *IllustrisTNG* [https://www.tng-project.org/data/](https://www.tng-project.org/data/)\n",
    "\n",
    "And some focus exclusively on derived data products:\n",
    "- *3D Dust Mapping* [http://argonaut.skymaps.info](http://argonaut.skymaps.info)\n",
    "- *Interstellar Radiation Field Calculator* [https://cads.iiap.res.in/tools/isrfCalc](https://cads.iiap.res.in/tools/isrfCalc)\n"
   ]
  },
  {
   "cell_type": "markdown",
   "metadata": {
    "id": "5yPJkbsSebEj"
   },
   "source": [
    "> **Q:** The following block of code reads in a file containing the positions of galaxies observed by SDSS that are part of the Abell 0958 cluster and then plots these positions. It also includes vertical and horizontal lines marking the average positions within the cluster. *But the code contains some errors.* Fix the errors to display the positions of these galaxies.\n",
    "\n",
    "Before correcting the code, download the \"Abell0958.csv\" file from Glow, and upload it to this workspace by clicking the folder icon on the left. This will display the local storage space. Then click the *Upload to storage session* button (that looks like a file with an up-arrow). From here you can upload the file."
   ]
  },
  {
   "cell_type": "code",
   "execution_count": null,
   "metadata": {
    "colab": {
     "base_uri": "https://localhost:8080/",
     "height": 312
    },
    "executionInfo": {
     "elapsed": 359,
     "status": "ok",
     "timestamp": 1644350615518,
     "user": {
      "displayName": "Kevin Flaherty",
      "photoUrl": "https://lh3.googleusercontent.com/a/default-user=s64",
      "userId": "15812311172606787912"
     },
     "user_tz": 300
    },
    "id": "5AzgnE7merqG",
    "outputId": "614ccde8-fcfa-4004-88af-f9c884573f18"
   },
   "outputs": [
    {
     "data": {
      "text/plain": [
       "<matplotlib.lines.Line2D at 0x7f1e3f036510>"
      ]
     },
     "execution_count": 2,
     "metadata": {},
     "output_type": "execute_result"
    },
    {
     "data": {
      "image/png": "[encoded data removed]",
      "text/plain": [
       "<Figure size 432x288 with 1 Axes>"
      ]
     },
     "metadata": {
      "needs_background": "light"
     },
     "output_type": "display_data"
    }
   ],
   "source": [
    "import matplotlib.pyplot as plt\n",
    "import numpy as np\n",
    "%matplotlib inline\n",
    "\n",
    "abell_data = np.loadtxt('Abell0958.csv',delimiter=',',skiprows=2) #Read in the data\n",
    "ra = abell_data[:,1]    # 1 Wrong index for the RA column\n",
    "dec = abell_data[:,2]   # 2 Wrong index for the Dec column\n",
    "\n",
    "plt.plot(ra,dec,marker='o',color='k',linestyle='')  # x and y should be change to ra and dec\n",
    "plt.xlabel('Right Ascension')                     # missing end parenthesis\n",
    "plt.ylabel('Declination')                          # declination should be in quotes\n",
    "plt.title('Abell 0958')                          # Add a title using the given string\n",
    "plt.axvline(np.mean(ra),alpha=.5)               # should be ra\n",
    "plt.axhline(np.mean(dec),alpha=.5)                # should be Dec"
   ]
  },
  {
   "cell_type": "markdown",
   "metadata": {
    "id": "KlRQugZ1gbi1"
   },
   "source": [
    "The above block of code introduces a new method for plotting, this time plotting individual points instead of a line.\n",
    "\n",
    "In the tutorial you saw the following block of code for plotting a line:"
   ]
  },
  {
   "cell_type": "code",
   "execution_count": null,
   "metadata": {
    "colab": {
     "base_uri": "https://localhost:8080/",
     "height": 282
    },
    "executionInfo": {
     "elapsed": 294,
     "status": "ok",
     "timestamp": 1644350624795,
     "user": {
      "displayName": "Kevin Flaherty",
      "photoUrl": "https://lh3.googleusercontent.com/a/default-user=s64",
      "userId": "15812311172606787912"
     },
     "user_tz": 300
    },
    "id": "R-yWHFSogjbd",
    "outputId": "21e08298-5f8a-4acf-e243-c90e9e594ee6"
   },
   "outputs": [
    {
     "data": {
      "text/plain": [
       "[<matplotlib.lines.Line2D at 0x7f1e3efc9250>]"
      ]
     },
     "execution_count": 3,
     "metadata": {},
     "output_type": "execute_result"
    },
    {
     "data": {
      "image/png": "[encoded data removed]",
      "text/plain": [
       "<Figure size 432x288 with 1 Axes>"
      ]
     },
     "metadata": {
      "needs_background": "light"
     },
     "output_type": "display_data"
    }
   ],
   "source": [
    "x = np.linspace(0,10,100)\n",
    "y = np.sin(x)\n",
    "plt.plot(x,y)"
   ]
  },
  {
   "cell_type": "markdown",
   "metadata": {
    "id": "pAK7ioTbgpav"
   },
   "source": [
    "Plotting data points instead of a line involves setting a marker symbol as a string, and then setting the linestyle keyword to an empty string so that it does not plot a line connecting the points (you can set the linestyle to a value, or leave out the keyword, if you would like a line connecting the points). The various marker symbol options are [listed online](https://matplotlib.org/3.1.0/api/markers_api.html#module-matplotlib.markers), and some common choices are:\n",
    "- `'o'`: a circle\n",
    "- `'.'`: a dot\n",
    "- `'x'`: a cross\n",
    "- `'+'`: a plus sign\n",
    "- `'d'`: a diamond\n",
    "\n",
    "We also introduced a way to specify the color of the symbol/line, using the color keyword. This keyword takes a string corresponding to the desired color. There are many options, [listed online](https://matplotlib.org/3.1.0/gallery/color/named_colors.html), and some common choices are:\n",
    "- `'k'`: black\n",
    "- `'b'`: blue\n",
    "- `'g'`: green\n",
    "- `'r'`: red"
   ]
  },
  {
   "cell_type": "code",
   "execution_count": null,
   "metadata": {
    "colab": {
     "base_uri": "https://localhost:8080/",
     "height": 282
    },
    "executionInfo": {
     "elapsed": 296,
     "status": "ok",
     "timestamp": 1644350630296,
     "user": {
      "displayName": "Kevin Flaherty",
      "photoUrl": "https://lh3.googleusercontent.com/a/default-user=s64",
      "userId": "15812311172606787912"
     },
     "user_tz": 300
    },
    "id": "ADxX_Dmfg_pX",
    "outputId": "894ce80b-428f-46a1-a783-a3d209a91388"
   },
   "outputs": [
    {
     "data": {
      "text/plain": [
       "[<matplotlib.lines.Line2D at 0x7f1e3ef3de90>]"
      ]
     },
     "execution_count": 4,
     "metadata": {},
     "output_type": "execute_result"
    },
    {
     "data": {
      "image/png": "[encoded data removed]",
      "text/plain": [
       "<Figure size 432x288 with 1 Axes>"
      ]
     },
     "metadata": {
      "needs_background": "light"
     },
     "output_type": "display_data"
    }
   ],
   "source": [
    "#Similar to above, but with points\n",
    "plt.plot(x,y,marker='.',color='k',linestyle='')\n",
    "\n",
    "# We can overplot another dataset simply by calling plt.plot again\n",
    "plt.plot(x,2*y,marker='x',color='g',linestyle='')\n",
    "plt.plot(x,0.3*y,marker='+',color='r',linestyle='')"
   ]
  },
  {
   "cell_type": "markdown",
   "metadata": {
    "id": "Cfh0jqAVhQqn"
   },
   "source": [
    "Now, let us get back to using databases.\n",
    "\n",
    "> **Q:** Here you will use GAIA data to estimate the distance to some open clusters.\n",
    ">\n",
    "> **Part 1:** Go to the GAIA archive and click on the Search link. In the name text box, enter `Pleiades` and change the search radius to 10 arcmin. You will use the parallax to measure the distance (distance = 1000/parallax, with the parallax in units of milli-arcseconds (mas)) and to get an accurate distance you need to restrict your search to those stars that have accurate parallax data. To do this, under Extra conditions add a condition that restricts parallax_over_error to >=20. Hit submit query; the results will quickly be displayed on the screen. To download these results, in the drop down menu at the bottom select CSV (= comma separated variables) and then click Download results. Upload the csv file to this workspace.\n",
    ">\n",
    "> **Part 2:** Now you will write a function that will use the data from this file to calculate the average distance.\n",
    "> - First define a function that takes as an input the name of the text file.\n",
    "> - Within that function, read in the data from the text file (Hint: In using `np.loadtxt` to read in the data, you will need to specify the `delimiter` as a comma, and can use the `skiprows` parameter to skip the first row).\n",
    "> - Pull out the parallax from this data array and use it to compute the distance to each star. Take the average of these distances.\n",
    ">\n",
    "\n",
    "Average distance = **525 pc**"
   ]
  },
  {
   "cell_type": "code",
   "execution_count": null,
   "metadata": {
    "colab": {
     "base_uri": "https://localhost:8080/"
    },
    "executionInfo": {
     "elapsed": 144,
     "status": "ok",
     "timestamp": 1644351209298,
     "user": {
      "displayName": "Kevin Flaherty",
      "photoUrl": "https://lh3.googleusercontent.com/a/default-user=s64",
      "userId": "15812311172606787912"
     },
     "user_tz": 300
    },
    "id": "aK0gn0kt0h7D",
    "outputId": "0bf1031e-26ed-4e57-8508-a7a43d66a546"
   },
   "outputs": [
    {
     "name": "stdout",
     "output_type": "stream",
     "text": [
      "524.9267701891955\n"
     ]
    }
   ],
   "source": [
    "#code to calculate average distance goes here\n",
    "def calc_distance(file):\n",
    "  '''\n",
    "    Read in a list of parallaxes, and calculate the average distance.\n",
    "    INPUTS:\n",
    "      file (string): The filename\n",
    "    OUTPUTS:\n",
    "      Prints the average distance\n",
    "    RETURNS:\n",
    "      None\n",
    "  '''\n",
    "  data = np.loadtxt(file,delimiter=',',skiprows=1,dtype='str')\n",
    "  p = np.array([float(x) for x in data[:,3]])\n",
    "  print(np.mean(1000/p))\n",
    "calc_distance('pleiades.csv')"
   ]
  },
  {
   "cell_type": "markdown",
   "metadata": {
    "id": "2zMhlhBJ0oSR"
   },
   "source": [
    "> **Q:** Use the GAIA archive and your function to find the average distance to the Beehive Cluster (M44). You will need to look up the angular size of M44 in Simbad to refine your search.\n",
    "\n",
    "Average distance to M44 = **646 pc**\n"
   ]
  },
  {
   "cell_type": "code",
   "execution_count": null,
   "metadata": {
    "colab": {
     "base_uri": "https://localhost:8080/"
    },
    "executionInfo": {
     "elapsed": 182,
     "status": "ok",
     "timestamp": 1644351553699,
     "user": {
      "displayName": "Kevin Flaherty",
      "photoUrl": "https://lh3.googleusercontent.com/a/default-user=s64",
      "userId": "15812311172606787912"
     },
     "user_tz": 300
    },
    "id": "R1SCW3rQ0_lu",
    "outputId": "30eb7e6c-9546-487f-adc4-14b53b12c4f5"
   },
   "outputs": [
    {
     "name": "stdout",
     "output_type": "stream",
     "text": [
      "646.3037664903925\n"
     ]
    }
   ],
   "source": [
    "# Calculate the average distance to M44\n",
    "calc_distance('m44.csv')"
   ]
  },
  {
   "cell_type": "markdown",
   "metadata": {
    "id": "Qw-LcS1p2TsR"
   },
   "source": [
    "---\n",
    "### Part 2\n",
    "\n",
    "Open the SDSS SQL lab notebook for an introduction to SQL queries.\n",
    "\n",
    "---\n",
    "---\n",
    "---\n"
   ]
  },
  {
   "cell_type": "markdown",
   "metadata": {
    "id": "PWrlk5MJmo74"
   },
   "source": [
    "### To turn in this lab, share the lab with me using the *Share* button in the upper right."
   ]
  }
 ],
 "metadata": {
  "colab": {
   "collapsed_sections": [],
   "name": "Solns:Part1_Online_Databases.ipynb",
   "provenance": []
  },
  "kernelspec": {
   "display_name": "Python 3 (ipykernel)",
   "language": "python",
   "name": "python3"
  },
  "language_info": {
   "codemirror_mode": {
    "name": "ipython",
    "version": 3
   },
   "file_extension": ".py",
   "mimetype": "text/x-python",
   "name": "python",
   "nbconvert_exporter": "python",
   "pygments_lexer": "ipython3",
   "version": "3.9.12"
  }
 },
 "nbformat": 4,
 "nbformat_minor": 1
}
